{
 "cells": [
  {
   "cell_type": "markdown",
   "metadata": {},
   "source": [
    "# Sleep Health and Lifestyle\n",
    "<img src=\"./images/ryujin.jpg\" alt=\"Drawing\" style=\"width: 200px;\"/>\n",
    "\n",
    "----------"
   ]
  },
  {
   "cell_type": "markdown",
   "metadata": {},
   "source": [
    "# About this Dataset\n",
    "This synthetic dataset contains sleep and cardiovascular metrics as well as lifestyle factors of close to 400 fictive persons. with the following columns:\n",
    "- Person ID\n",
    "- Gender\n",
    "- Age\n",
    "- Occupation\n",
    "- Sleep Duration\n",
    "- Quality of Sleep\n",
    "- Physical Activity\n",
    "- Stress Level\n",
    "- BMI Category\n",
    "- Blood Pressure\n",
    "- Heart Rate\n",
    "- Daily Steps\n",
    "- Sleep Disorder\n",
    "----------"
   ]
  },
  {
   "cell_type": "markdown",
   "metadata": {},
   "source": [
    "## What are we exploring today?\n",
    "- Which **factors** could contribute to a **sleep disaster**?\n",
    "- Does an **increased physical activity level** result in a better **quality of sleep**?\n",
    "- Does the presence of a **sleep disorder** affect the subjective **sleep quality** metric**?\n",
    "- Difference of **sleep quality** for each **occupation** (with Boxplot)\n",
    "- Link between **age** and **sleep duration** (with Scatterplot)\n",
    "----------"
   ]
  },
  {
   "cell_type": "markdown",
   "metadata": {},
   "source": [
    "## Objective:\n",
    "- Construct a classifier to predict the **presence of a sleep disorder** based on the other columns in the dataset.\n",
    "-----------"
   ]
  },
  {
   "cell_type": "markdown",
   "metadata": {},
   "source": []
  }
 ],
 "metadata": {
  "kernelspec": {
   "display_name": "Python 3",
   "language": "python",
   "name": "python3"
  },
  "language_info": {
   "name": "python",
   "version": "3.9.21"
  }
 },
 "nbformat": 4,
 "nbformat_minor": 2
}
