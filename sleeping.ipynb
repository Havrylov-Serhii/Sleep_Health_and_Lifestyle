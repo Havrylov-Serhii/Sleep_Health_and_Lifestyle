{
 "cells": [
  {
   "cell_type": "markdown",
   "metadata": {},
   "source": [
    "# Sleep Health and Lifestyle\n",
    "<img src=\"./images/ryujin.jpg\" alt=\"Drawing\" style=\"width: 200px;\"/>\n",
    "\n",
    "----------"
   ]
  },
  {
   "cell_type": "markdown",
   "metadata": {},
   "source": [
    "# About this Dataset\n",
    "This synthetic dataset contains sleep and cardiovascular metrics as well as lifestyle factors of close to 400 fictive persons. with the following columns:\n",
    "- Person ID\n",
    "- Gender\n",
    "- Age\n",
    "- Occupation\n",
    "- Sleep Duration\n",
    "- Quality of Sleep\n",
    "- Physical Activity\n",
    "- Stress Level\n",
    "- BMI Category\n",
    "- Blood Pressure\n",
    "- Heart Rate\n",
    "- Daily Steps\n",
    "- Sleep Disorder\n",
    "----------"
   ]
  },
  {
   "cell_type": "markdown",
   "metadata": {},
   "source": [
    "## What are we exploring today?\n",
    "- Which **factors** could contribute to a **sleep disorder**?\n",
    "- Does an **increased physical activity level** result in a better **quality of sleep**?\n",
    "- Does the presence of a **sleep disorder** affect the subjective **sleep quality** metric?\n",
    "- Difference of **sleep quality** for each **occupation**\n",
    "- Link between **age** and **sleep duration** \n",
    "----------"
   ]
  },
  {
   "cell_type": "markdown",
   "metadata": {},
   "source": [
    "## Objective:\n",
    "- Construct a classifier to predict the **presence of a sleep disorder** based on the other columns in the dataset.\n",
    "-----------"
   ]
  },
  {
   "cell_type": "markdown",
   "metadata": {},
   "source": [
    "##### Tasks\n",
    "<s>1. Loading and first look at the data\n",
    " - Importing relevant libraries\n",
    " - Downloading dataset\n",
    " - Checking overall info\n",
    " - Looking for missing and wrong values</s>\n",
    "\n",
    "<s>2. Analysis and vizualization\n",
    "- Which factors could contribute to a sleep disorder?\n",
    "- Does an increased physical activity level result in a better quality of sleep?\n",
    "- Does the presence of a sleep disorder affect the subjective sleep quality metric?\n",
    "- Whats the difference of sleep quality for each occupation?\n",
    "- Whats the link between age and sleep duration?</s>\n",
    "\n",
    "<s>3. Processing and preparation data for modeling\n",
    " -  Encoding for categorical values\n",
    " - Choosing a variables for the model, and making new (for Blood Pressure)\n",
    " - Normalization values\n",
    " - Balancing classes if they are not </s>\n",
    "\n",
    "<s>4. Classification creation to predict sleep disorder\n",
    " - Train/Test split \n",
    " - Trying different algorithms \n",
    " - Model scoring </s>\n",
    "\n",
    "5. Optimization and choosing hyperparameters\n",
    " - Using GridSearchCV or RandomizedSearchCV\n",
    " - Model productive scoring\n",
    "\n",
    "6. Conclusion\n",
    " - Making confusion matrix\n",
    " - Looking for feature importance\n",
    " - Conclusion: which factors affect sleep disorders"
   ]
  },
  {
   "cell_type": "markdown",
   "metadata": {},
   "source": [
    "## Loading and first look at the data"
   ]
  },
  {
   "cell_type": "code",
   "execution_count": 2,
   "metadata": {},
   "outputs": [],
   "source": [
    "# For working with data\n",
    "import pandas as pd\n",
    "import numpy as np\n",
    "\n",
    "# For vizualization \n",
    "import matplotlib.pyplot as plt\n",
    "import seaborn as sns"
   ]
  },
  {
   "cell_type": "code",
   "execution_count": 3,
   "metadata": {},
   "outputs": [],
   "source": [
    "df = pd.read_csv('./data/Sleep_health_and_lifestyle_dataset.csv')"
   ]
  },
  {
   "cell_type": "code",
   "execution_count": 4,
   "metadata": {},
   "outputs": [
    {
     "data": {
      "application/vnd.microsoft.datawrangler.viewer.v0+json": {
       "columns": [
        {
         "name": "index",
         "rawType": "int64",
         "type": "integer"
        },
        {
         "name": "Person ID",
         "rawType": "int64",
         "type": "integer"
        },
        {
         "name": "Gender",
         "rawType": "object",
         "type": "string"
        },
        {
         "name": "Age",
         "rawType": "int64",
         "type": "integer"
        },
        {
         "name": "Occupation",
         "rawType": "object",
         "type": "string"
        },
        {
         "name": "Sleep Duration",
         "rawType": "float64",
         "type": "float"
        },
        {
         "name": "Quality of Sleep",
         "rawType": "int64",
         "type": "integer"
        },
        {
         "name": "Physical Activity Level",
         "rawType": "int64",
         "type": "integer"
        },
        {
         "name": "Stress Level",
         "rawType": "int64",
         "type": "integer"
        },
        {
         "name": "BMI Category",
         "rawType": "object",
         "type": "string"
        },
        {
         "name": "Blood Pressure",
         "rawType": "object",
         "type": "string"
        },
        {
         "name": "Heart Rate",
         "rawType": "int64",
         "type": "integer"
        },
        {
         "name": "Daily Steps",
         "rawType": "int64",
         "type": "integer"
        },
        {
         "name": "Sleep Disorder",
         "rawType": "object",
         "type": "unknown"
        }
       ],
       "conversionMethod": "pd.DataFrame",
       "ref": "31532ef2-ebdf-46b8-b651-b83e167c74da",
       "rows": [
        [
         "0",
         "1",
         "Male",
         "27",
         "Software Engineer",
         "6.1",
         "6",
         "42",
         "6",
         "Overweight",
         "126/83",
         "77",
         "4200",
         null
        ],
        [
         "1",
         "2",
         "Male",
         "28",
         "Doctor",
         "6.2",
         "6",
         "60",
         "8",
         "Normal",
         "125/80",
         "75",
         "10000",
         null
        ],
        [
         "2",
         "3",
         "Male",
         "28",
         "Doctor",
         "6.2",
         "6",
         "60",
         "8",
         "Normal",
         "125/80",
         "75",
         "10000",
         null
        ],
        [
         "3",
         "4",
         "Male",
         "28",
         "Sales Representative",
         "5.9",
         "4",
         "30",
         "8",
         "Obese",
         "140/90",
         "85",
         "3000",
         "Sleep Apnea"
        ],
        [
         "4",
         "5",
         "Male",
         "28",
         "Sales Representative",
         "5.9",
         "4",
         "30",
         "8",
         "Obese",
         "140/90",
         "85",
         "3000",
         "Sleep Apnea"
        ]
       ],
       "shape": {
        "columns": 13,
        "rows": 5
       }
      },
      "text/html": [
       "<div>\n",
       "<style scoped>\n",
       "    .dataframe tbody tr th:only-of-type {\n",
       "        vertical-align: middle;\n",
       "    }\n",
       "\n",
       "    .dataframe tbody tr th {\n",
       "        vertical-align: top;\n",
       "    }\n",
       "\n",
       "    .dataframe thead th {\n",
       "        text-align: right;\n",
       "    }\n",
       "</style>\n",
       "<table border=\"1\" class=\"dataframe\">\n",
       "  <thead>\n",
       "    <tr style=\"text-align: right;\">\n",
       "      <th></th>\n",
       "      <th>Person ID</th>\n",
       "      <th>Gender</th>\n",
       "      <th>Age</th>\n",
       "      <th>Occupation</th>\n",
       "      <th>Sleep Duration</th>\n",
       "      <th>Quality of Sleep</th>\n",
       "      <th>Physical Activity Level</th>\n",
       "      <th>Stress Level</th>\n",
       "      <th>BMI Category</th>\n",
       "      <th>Blood Pressure</th>\n",
       "      <th>Heart Rate</th>\n",
       "      <th>Daily Steps</th>\n",
       "      <th>Sleep Disorder</th>\n",
       "    </tr>\n",
       "  </thead>\n",
       "  <tbody>\n",
       "    <tr>\n",
       "      <th>0</th>\n",
       "      <td>1</td>\n",
       "      <td>Male</td>\n",
       "      <td>27</td>\n",
       "      <td>Software Engineer</td>\n",
       "      <td>6.1</td>\n",
       "      <td>6</td>\n",
       "      <td>42</td>\n",
       "      <td>6</td>\n",
       "      <td>Overweight</td>\n",
       "      <td>126/83</td>\n",
       "      <td>77</td>\n",
       "      <td>4200</td>\n",
       "      <td>NaN</td>\n",
       "    </tr>\n",
       "    <tr>\n",
       "      <th>1</th>\n",
       "      <td>2</td>\n",
       "      <td>Male</td>\n",
       "      <td>28</td>\n",
       "      <td>Doctor</td>\n",
       "      <td>6.2</td>\n",
       "      <td>6</td>\n",
       "      <td>60</td>\n",
       "      <td>8</td>\n",
       "      <td>Normal</td>\n",
       "      <td>125/80</td>\n",
       "      <td>75</td>\n",
       "      <td>10000</td>\n",
       "      <td>NaN</td>\n",
       "    </tr>\n",
       "    <tr>\n",
       "      <th>2</th>\n",
       "      <td>3</td>\n",
       "      <td>Male</td>\n",
       "      <td>28</td>\n",
       "      <td>Doctor</td>\n",
       "      <td>6.2</td>\n",
       "      <td>6</td>\n",
       "      <td>60</td>\n",
       "      <td>8</td>\n",
       "      <td>Normal</td>\n",
       "      <td>125/80</td>\n",
       "      <td>75</td>\n",
       "      <td>10000</td>\n",
       "      <td>NaN</td>\n",
       "    </tr>\n",
       "    <tr>\n",
       "      <th>3</th>\n",
       "      <td>4</td>\n",
       "      <td>Male</td>\n",
       "      <td>28</td>\n",
       "      <td>Sales Representative</td>\n",
       "      <td>5.9</td>\n",
       "      <td>4</td>\n",
       "      <td>30</td>\n",
       "      <td>8</td>\n",
       "      <td>Obese</td>\n",
       "      <td>140/90</td>\n",
       "      <td>85</td>\n",
       "      <td>3000</td>\n",
       "      <td>Sleep Apnea</td>\n",
       "    </tr>\n",
       "    <tr>\n",
       "      <th>4</th>\n",
       "      <td>5</td>\n",
       "      <td>Male</td>\n",
       "      <td>28</td>\n",
       "      <td>Sales Representative</td>\n",
       "      <td>5.9</td>\n",
       "      <td>4</td>\n",
       "      <td>30</td>\n",
       "      <td>8</td>\n",
       "      <td>Obese</td>\n",
       "      <td>140/90</td>\n",
       "      <td>85</td>\n",
       "      <td>3000</td>\n",
       "      <td>Sleep Apnea</td>\n",
       "    </tr>\n",
       "  </tbody>\n",
       "</table>\n",
       "</div>"
      ],
      "text/plain": [
       "   Person ID Gender  Age            Occupation  Sleep Duration  \\\n",
       "0          1   Male   27     Software Engineer             6.1   \n",
       "1          2   Male   28                Doctor             6.2   \n",
       "2          3   Male   28                Doctor             6.2   \n",
       "3          4   Male   28  Sales Representative             5.9   \n",
       "4          5   Male   28  Sales Representative             5.9   \n",
       "\n",
       "   Quality of Sleep  Physical Activity Level  Stress Level BMI Category  \\\n",
       "0                 6                       42             6   Overweight   \n",
       "1                 6                       60             8       Normal   \n",
       "2                 6                       60             8       Normal   \n",
       "3                 4                       30             8        Obese   \n",
       "4                 4                       30             8        Obese   \n",
       "\n",
       "  Blood Pressure  Heart Rate  Daily Steps Sleep Disorder  \n",
       "0         126/83          77         4200            NaN  \n",
       "1         125/80          75        10000            NaN  \n",
       "2         125/80          75        10000            NaN  \n",
       "3         140/90          85         3000    Sleep Apnea  \n",
       "4         140/90          85         3000    Sleep Apnea  "
      ]
     },
     "execution_count": 4,
     "metadata": {},
     "output_type": "execute_result"
    }
   ],
   "source": [
    "df.head()"
   ]
  },
  {
   "cell_type": "code",
   "execution_count": 5,
   "metadata": {},
   "outputs": [
    {
     "name": "stdout",
     "output_type": "stream",
     "text": [
      "<class 'pandas.core.frame.DataFrame'>\n",
      "RangeIndex: 374 entries, 0 to 373\n",
      "Data columns (total 13 columns):\n",
      " #   Column                   Non-Null Count  Dtype  \n",
      "---  ------                   --------------  -----  \n",
      " 0   Person ID                374 non-null    int64  \n",
      " 1   Gender                   374 non-null    object \n",
      " 2   Age                      374 non-null    int64  \n",
      " 3   Occupation               374 non-null    object \n",
      " 4   Sleep Duration           374 non-null    float64\n",
      " 5   Quality of Sleep         374 non-null    int64  \n",
      " 6   Physical Activity Level  374 non-null    int64  \n",
      " 7   Stress Level             374 non-null    int64  \n",
      " 8   BMI Category             374 non-null    object \n",
      " 9   Blood Pressure           374 non-null    object \n",
      " 10  Heart Rate               374 non-null    int64  \n",
      " 11  Daily Steps              374 non-null    int64  \n",
      " 12  Sleep Disorder           155 non-null    object \n",
      "dtypes: float64(1), int64(7), object(5)\n",
      "memory usage: 38.1+ KB\n"
     ]
    }
   ],
   "source": [
    "df.info()"
   ]
  },
  {
   "cell_type": "code",
   "execution_count": 6,
   "metadata": {},
   "outputs": [
    {
     "data": {
      "application/vnd.microsoft.datawrangler.viewer.v0+json": {
       "columns": [
        {
         "name": "index",
         "rawType": "object",
         "type": "string"
        },
        {
         "name": "Person ID",
         "rawType": "float64",
         "type": "float"
        },
        {
         "name": "Age",
         "rawType": "float64",
         "type": "float"
        },
        {
         "name": "Sleep Duration",
         "rawType": "float64",
         "type": "float"
        },
        {
         "name": "Quality of Sleep",
         "rawType": "float64",
         "type": "float"
        },
        {
         "name": "Physical Activity Level",
         "rawType": "float64",
         "type": "float"
        },
        {
         "name": "Stress Level",
         "rawType": "float64",
         "type": "float"
        },
        {
         "name": "Heart Rate",
         "rawType": "float64",
         "type": "float"
        },
        {
         "name": "Daily Steps",
         "rawType": "float64",
         "type": "float"
        }
       ],
       "conversionMethod": "pd.DataFrame",
       "ref": "e6977687-4260-43f8-bc0d-31cff866689f",
       "rows": [
        [
         "count",
         "374.0",
         "374.0",
         "374.0",
         "374.0",
         "374.0",
         "374.0",
         "374.0",
         "374.0"
        ],
        [
         "mean",
         "187.5",
         "42.18449197860963",
         "7.132085561497325",
         "7.31283422459893",
         "59.17112299465241",
         "5.385026737967914",
         "70.16577540106952",
         "6816.844919786096"
        ],
        [
         "std",
         "108.10874155219827",
         "8.67313346554724",
         "0.7956567308898188",
         "1.1969559197336044",
         "20.830803658071673",
         "1.7745264441985167",
         "4.135675535112214",
         "1617.915679133637"
        ],
        [
         "min",
         "1.0",
         "27.0",
         "5.8",
         "4.0",
         "30.0",
         "3.0",
         "65.0",
         "3000.0"
        ],
        [
         "25%",
         "94.25",
         "35.25",
         "6.4",
         "6.0",
         "45.0",
         "4.0",
         "68.0",
         "5600.0"
        ],
        [
         "50%",
         "187.5",
         "43.0",
         "7.2",
         "7.0",
         "60.0",
         "5.0",
         "70.0",
         "7000.0"
        ],
        [
         "75%",
         "280.75",
         "50.0",
         "7.8",
         "8.0",
         "75.0",
         "7.0",
         "72.0",
         "8000.0"
        ],
        [
         "max",
         "374.0",
         "59.0",
         "8.5",
         "9.0",
         "90.0",
         "8.0",
         "86.0",
         "10000.0"
        ]
       ],
       "shape": {
        "columns": 8,
        "rows": 8
       }
      },
      "text/html": [
       "<div>\n",
       "<style scoped>\n",
       "    .dataframe tbody tr th:only-of-type {\n",
       "        vertical-align: middle;\n",
       "    }\n",
       "\n",
       "    .dataframe tbody tr th {\n",
       "        vertical-align: top;\n",
       "    }\n",
       "\n",
       "    .dataframe thead th {\n",
       "        text-align: right;\n",
       "    }\n",
       "</style>\n",
       "<table border=\"1\" class=\"dataframe\">\n",
       "  <thead>\n",
       "    <tr style=\"text-align: right;\">\n",
       "      <th></th>\n",
       "      <th>Person ID</th>\n",
       "      <th>Age</th>\n",
       "      <th>Sleep Duration</th>\n",
       "      <th>Quality of Sleep</th>\n",
       "      <th>Physical Activity Level</th>\n",
       "      <th>Stress Level</th>\n",
       "      <th>Heart Rate</th>\n",
       "      <th>Daily Steps</th>\n",
       "    </tr>\n",
       "  </thead>\n",
       "  <tbody>\n",
       "    <tr>\n",
       "      <th>count</th>\n",
       "      <td>374.000000</td>\n",
       "      <td>374.000000</td>\n",
       "      <td>374.000000</td>\n",
       "      <td>374.000000</td>\n",
       "      <td>374.000000</td>\n",
       "      <td>374.000000</td>\n",
       "      <td>374.000000</td>\n",
       "      <td>374.000000</td>\n",
       "    </tr>\n",
       "    <tr>\n",
       "      <th>mean</th>\n",
       "      <td>187.500000</td>\n",
       "      <td>42.184492</td>\n",
       "      <td>7.132086</td>\n",
       "      <td>7.312834</td>\n",
       "      <td>59.171123</td>\n",
       "      <td>5.385027</td>\n",
       "      <td>70.165775</td>\n",
       "      <td>6816.844920</td>\n",
       "    </tr>\n",
       "    <tr>\n",
       "      <th>std</th>\n",
       "      <td>108.108742</td>\n",
       "      <td>8.673133</td>\n",
       "      <td>0.795657</td>\n",
       "      <td>1.196956</td>\n",
       "      <td>20.830804</td>\n",
       "      <td>1.774526</td>\n",
       "      <td>4.135676</td>\n",
       "      <td>1617.915679</td>\n",
       "    </tr>\n",
       "    <tr>\n",
       "      <th>min</th>\n",
       "      <td>1.000000</td>\n",
       "      <td>27.000000</td>\n",
       "      <td>5.800000</td>\n",
       "      <td>4.000000</td>\n",
       "      <td>30.000000</td>\n",
       "      <td>3.000000</td>\n",
       "      <td>65.000000</td>\n",
       "      <td>3000.000000</td>\n",
       "    </tr>\n",
       "    <tr>\n",
       "      <th>25%</th>\n",
       "      <td>94.250000</td>\n",
       "      <td>35.250000</td>\n",
       "      <td>6.400000</td>\n",
       "      <td>6.000000</td>\n",
       "      <td>45.000000</td>\n",
       "      <td>4.000000</td>\n",
       "      <td>68.000000</td>\n",
       "      <td>5600.000000</td>\n",
       "    </tr>\n",
       "    <tr>\n",
       "      <th>50%</th>\n",
       "      <td>187.500000</td>\n",
       "      <td>43.000000</td>\n",
       "      <td>7.200000</td>\n",
       "      <td>7.000000</td>\n",
       "      <td>60.000000</td>\n",
       "      <td>5.000000</td>\n",
       "      <td>70.000000</td>\n",
       "      <td>7000.000000</td>\n",
       "    </tr>\n",
       "    <tr>\n",
       "      <th>75%</th>\n",
       "      <td>280.750000</td>\n",
       "      <td>50.000000</td>\n",
       "      <td>7.800000</td>\n",
       "      <td>8.000000</td>\n",
       "      <td>75.000000</td>\n",
       "      <td>7.000000</td>\n",
       "      <td>72.000000</td>\n",
       "      <td>8000.000000</td>\n",
       "    </tr>\n",
       "    <tr>\n",
       "      <th>max</th>\n",
       "      <td>374.000000</td>\n",
       "      <td>59.000000</td>\n",
       "      <td>8.500000</td>\n",
       "      <td>9.000000</td>\n",
       "      <td>90.000000</td>\n",
       "      <td>8.000000</td>\n",
       "      <td>86.000000</td>\n",
       "      <td>10000.000000</td>\n",
       "    </tr>\n",
       "  </tbody>\n",
       "</table>\n",
       "</div>"
      ],
      "text/plain": [
       "        Person ID         Age  Sleep Duration  Quality of Sleep  \\\n",
       "count  374.000000  374.000000      374.000000        374.000000   \n",
       "mean   187.500000   42.184492        7.132086          7.312834   \n",
       "std    108.108742    8.673133        0.795657          1.196956   \n",
       "min      1.000000   27.000000        5.800000          4.000000   \n",
       "25%     94.250000   35.250000        6.400000          6.000000   \n",
       "50%    187.500000   43.000000        7.200000          7.000000   \n",
       "75%    280.750000   50.000000        7.800000          8.000000   \n",
       "max    374.000000   59.000000        8.500000          9.000000   \n",
       "\n",
       "       Physical Activity Level  Stress Level  Heart Rate   Daily Steps  \n",
       "count               374.000000    374.000000  374.000000    374.000000  \n",
       "mean                 59.171123      5.385027   70.165775   6816.844920  \n",
       "std                  20.830804      1.774526    4.135676   1617.915679  \n",
       "min                  30.000000      3.000000   65.000000   3000.000000  \n",
       "25%                  45.000000      4.000000   68.000000   5600.000000  \n",
       "50%                  60.000000      5.000000   70.000000   7000.000000  \n",
       "75%                  75.000000      7.000000   72.000000   8000.000000  \n",
       "max                  90.000000      8.000000   86.000000  10000.000000  "
      ]
     },
     "execution_count": 6,
     "metadata": {},
     "output_type": "execute_result"
    }
   ],
   "source": [
    "df.describe()"
   ]
  },
  {
   "cell_type": "code",
   "execution_count": 7,
   "metadata": {},
   "outputs": [],
   "source": [
    "# filling missing values\n",
    "df['Sleep Disorder'] = df['Sleep Disorder'].fillna('None')"
   ]
  },
  {
   "cell_type": "code",
   "execution_count": 8,
   "metadata": {},
   "outputs": [
    {
     "data": {
      "application/vnd.microsoft.datawrangler.viewer.v0+json": {
       "columns": [
        {
         "name": "index",
         "rawType": "int64",
         "type": "integer"
        },
        {
         "name": "Person ID",
         "rawType": "int64",
         "type": "integer"
        },
        {
         "name": "Gender",
         "rawType": "object",
         "type": "string"
        },
        {
         "name": "Age",
         "rawType": "int64",
         "type": "integer"
        },
        {
         "name": "Occupation",
         "rawType": "object",
         "type": "string"
        },
        {
         "name": "Sleep Duration",
         "rawType": "float64",
         "type": "float"
        },
        {
         "name": "Quality of Sleep",
         "rawType": "int64",
         "type": "integer"
        },
        {
         "name": "Physical Activity Level",
         "rawType": "int64",
         "type": "integer"
        },
        {
         "name": "Stress Level",
         "rawType": "int64",
         "type": "integer"
        },
        {
         "name": "BMI Category",
         "rawType": "object",
         "type": "string"
        },
        {
         "name": "Blood Pressure",
         "rawType": "object",
         "type": "string"
        },
        {
         "name": "Heart Rate",
         "rawType": "int64",
         "type": "integer"
        },
        {
         "name": "Daily Steps",
         "rawType": "int64",
         "type": "integer"
        },
        {
         "name": "Sleep Disorder",
         "rawType": "object",
         "type": "string"
        }
       ],
       "conversionMethod": "pd.DataFrame",
       "ref": "1da111ef-b3e3-42cf-9c9f-52747b9f75ce",
       "rows": [
        [
         "0",
         "1",
         "Male",
         "27",
         "Software Engineer",
         "6.1",
         "6",
         "42",
         "6",
         "Overweight",
         "126/83",
         "77",
         "4200",
         "None"
        ],
        [
         "1",
         "2",
         "Male",
         "28",
         "Doctor",
         "6.2",
         "6",
         "60",
         "8",
         "Normal",
         "125/80",
         "75",
         "10000",
         "None"
        ],
        [
         "2",
         "3",
         "Male",
         "28",
         "Doctor",
         "6.2",
         "6",
         "60",
         "8",
         "Normal",
         "125/80",
         "75",
         "10000",
         "None"
        ],
        [
         "3",
         "4",
         "Male",
         "28",
         "Sales Representative",
         "5.9",
         "4",
         "30",
         "8",
         "Obese",
         "140/90",
         "85",
         "3000",
         "Sleep Apnea"
        ],
        [
         "4",
         "5",
         "Male",
         "28",
         "Sales Representative",
         "5.9",
         "4",
         "30",
         "8",
         "Obese",
         "140/90",
         "85",
         "3000",
         "Sleep Apnea"
        ]
       ],
       "shape": {
        "columns": 13,
        "rows": 5
       }
      },
      "text/html": [
       "<div>\n",
       "<style scoped>\n",
       "    .dataframe tbody tr th:only-of-type {\n",
       "        vertical-align: middle;\n",
       "    }\n",
       "\n",
       "    .dataframe tbody tr th {\n",
       "        vertical-align: top;\n",
       "    }\n",
       "\n",
       "    .dataframe thead th {\n",
       "        text-align: right;\n",
       "    }\n",
       "</style>\n",
       "<table border=\"1\" class=\"dataframe\">\n",
       "  <thead>\n",
       "    <tr style=\"text-align: right;\">\n",
       "      <th></th>\n",
       "      <th>Person ID</th>\n",
       "      <th>Gender</th>\n",
       "      <th>Age</th>\n",
       "      <th>Occupation</th>\n",
       "      <th>Sleep Duration</th>\n",
       "      <th>Quality of Sleep</th>\n",
       "      <th>Physical Activity Level</th>\n",
       "      <th>Stress Level</th>\n",
       "      <th>BMI Category</th>\n",
       "      <th>Blood Pressure</th>\n",
       "      <th>Heart Rate</th>\n",
       "      <th>Daily Steps</th>\n",
       "      <th>Sleep Disorder</th>\n",
       "    </tr>\n",
       "  </thead>\n",
       "  <tbody>\n",
       "    <tr>\n",
       "      <th>0</th>\n",
       "      <td>1</td>\n",
       "      <td>Male</td>\n",
       "      <td>27</td>\n",
       "      <td>Software Engineer</td>\n",
       "      <td>6.1</td>\n",
       "      <td>6</td>\n",
       "      <td>42</td>\n",
       "      <td>6</td>\n",
       "      <td>Overweight</td>\n",
       "      <td>126/83</td>\n",
       "      <td>77</td>\n",
       "      <td>4200</td>\n",
       "      <td>None</td>\n",
       "    </tr>\n",
       "    <tr>\n",
       "      <th>1</th>\n",
       "      <td>2</td>\n",
       "      <td>Male</td>\n",
       "      <td>28</td>\n",
       "      <td>Doctor</td>\n",
       "      <td>6.2</td>\n",
       "      <td>6</td>\n",
       "      <td>60</td>\n",
       "      <td>8</td>\n",
       "      <td>Normal</td>\n",
       "      <td>125/80</td>\n",
       "      <td>75</td>\n",
       "      <td>10000</td>\n",
       "      <td>None</td>\n",
       "    </tr>\n",
       "    <tr>\n",
       "      <th>2</th>\n",
       "      <td>3</td>\n",
       "      <td>Male</td>\n",
       "      <td>28</td>\n",
       "      <td>Doctor</td>\n",
       "      <td>6.2</td>\n",
       "      <td>6</td>\n",
       "      <td>60</td>\n",
       "      <td>8</td>\n",
       "      <td>Normal</td>\n",
       "      <td>125/80</td>\n",
       "      <td>75</td>\n",
       "      <td>10000</td>\n",
       "      <td>None</td>\n",
       "    </tr>\n",
       "    <tr>\n",
       "      <th>3</th>\n",
       "      <td>4</td>\n",
       "      <td>Male</td>\n",
       "      <td>28</td>\n",
       "      <td>Sales Representative</td>\n",
       "      <td>5.9</td>\n",
       "      <td>4</td>\n",
       "      <td>30</td>\n",
       "      <td>8</td>\n",
       "      <td>Obese</td>\n",
       "      <td>140/90</td>\n",
       "      <td>85</td>\n",
       "      <td>3000</td>\n",
       "      <td>Sleep Apnea</td>\n",
       "    </tr>\n",
       "    <tr>\n",
       "      <th>4</th>\n",
       "      <td>5</td>\n",
       "      <td>Male</td>\n",
       "      <td>28</td>\n",
       "      <td>Sales Representative</td>\n",
       "      <td>5.9</td>\n",
       "      <td>4</td>\n",
       "      <td>30</td>\n",
       "      <td>8</td>\n",
       "      <td>Obese</td>\n",
       "      <td>140/90</td>\n",
       "      <td>85</td>\n",
       "      <td>3000</td>\n",
       "      <td>Sleep Apnea</td>\n",
       "    </tr>\n",
       "  </tbody>\n",
       "</table>\n",
       "</div>"
      ],
      "text/plain": [
       "   Person ID Gender  Age            Occupation  Sleep Duration  \\\n",
       "0          1   Male   27     Software Engineer             6.1   \n",
       "1          2   Male   28                Doctor             6.2   \n",
       "2          3   Male   28                Doctor             6.2   \n",
       "3          4   Male   28  Sales Representative             5.9   \n",
       "4          5   Male   28  Sales Representative             5.9   \n",
       "\n",
       "   Quality of Sleep  Physical Activity Level  Stress Level BMI Category  \\\n",
       "0                 6                       42             6   Overweight   \n",
       "1                 6                       60             8       Normal   \n",
       "2                 6                       60             8       Normal   \n",
       "3                 4                       30             8        Obese   \n",
       "4                 4                       30             8        Obese   \n",
       "\n",
       "  Blood Pressure  Heart Rate  Daily Steps Sleep Disorder  \n",
       "0         126/83          77         4200           None  \n",
       "1         125/80          75        10000           None  \n",
       "2         125/80          75        10000           None  \n",
       "3         140/90          85         3000    Sleep Apnea  \n",
       "4         140/90          85         3000    Sleep Apnea  "
      ]
     },
     "execution_count": 8,
     "metadata": {},
     "output_type": "execute_result"
    }
   ],
   "source": [
    "df.head()"
   ]
  },
  {
   "cell_type": "code",
   "execution_count": 9,
   "metadata": {},
   "outputs": [
    {
     "data": {
      "text/plain": [
       "Occupation\n",
       "Nurse                   73\n",
       "Doctor                  71\n",
       "Engineer                63\n",
       "Lawyer                  47\n",
       "Teacher                 40\n",
       "Accountant              37\n",
       "Salesperson             32\n",
       "Software Engineer        4\n",
       "Scientist                4\n",
       "Sales Representative     2\n",
       "Manager                  1\n",
       "Name: count, dtype: int64"
      ]
     },
     "execution_count": 9,
     "metadata": {},
     "output_type": "execute_result"
    }
   ],
   "source": [
    "df['Occupation'].value_counts()"
   ]
  },
  {
   "cell_type": "markdown",
   "metadata": {},
   "source": [
    "## Data Preparation for Analysis"
   ]
  },
  {
   "cell_type": "markdown",
   "metadata": {},
   "source": [
    "First we need to encode categorical variables\n",
    "- [Gender] Female: 0, Male: 1\n",
    "- [Occupation] Nurse: 0, Doctor: 1, Engineer: 3, Lawyer: 4, Teacher: 5, Accountant: 6, Salesperson: 7, Software Engineer: 8, Scientist: 9, Sales Representative: 10, Manager: 11\n",
    "- [BMI Category] Normal: 0, Overweight: 1, Obese: 2, Underweight: 3\n",
    "- [Sleep Disorder] None: 0, Insomnia: 1, Sleep Apnea: 2"
   ]
  },
  {
   "cell_type": "code",
   "execution_count": 10,
   "metadata": {},
   "outputs": [
    {
     "data": {
      "application/vnd.microsoft.datawrangler.viewer.v0+json": {
       "columns": [
        {
         "name": "index",
         "rawType": "int64",
         "type": "integer"
        },
        {
         "name": "Person ID",
         "rawType": "int64",
         "type": "integer"
        },
        {
         "name": "Gender",
         "rawType": "int64",
         "type": "integer"
        },
        {
         "name": "Age",
         "rawType": "int64",
         "type": "integer"
        },
        {
         "name": "Occupation",
         "rawType": "int64",
         "type": "integer"
        },
        {
         "name": "Sleep Duration",
         "rawType": "float64",
         "type": "float"
        },
        {
         "name": "Quality of Sleep",
         "rawType": "int64",
         "type": "integer"
        },
        {
         "name": "Physical Activity Level",
         "rawType": "int64",
         "type": "integer"
        },
        {
         "name": "Stress Level",
         "rawType": "int64",
         "type": "integer"
        },
        {
         "name": "BMI Category",
         "rawType": "int64",
         "type": "integer"
        },
        {
         "name": "Blood Pressure",
         "rawType": "object",
         "type": "string"
        },
        {
         "name": "Heart Rate",
         "rawType": "int64",
         "type": "integer"
        },
        {
         "name": "Daily Steps",
         "rawType": "int64",
         "type": "integer"
        },
        {
         "name": "Sleep Disorder",
         "rawType": "int64",
         "type": "integer"
        }
       ],
       "conversionMethod": "pd.DataFrame",
       "ref": "61bdcaf8-22a4-4d4a-b60c-489dfeecec09",
       "rows": [
        [
         "0",
         "1",
         "1",
         "27",
         "8",
         "6.1",
         "6",
         "42",
         "6",
         "1",
         "126/83",
         "77",
         "4200",
         "0"
        ],
        [
         "1",
         "2",
         "1",
         "28",
         "1",
         "6.2",
         "6",
         "60",
         "8",
         "0",
         "125/80",
         "75",
         "10000",
         "0"
        ],
        [
         "2",
         "3",
         "1",
         "28",
         "1",
         "6.2",
         "6",
         "60",
         "8",
         "0",
         "125/80",
         "75",
         "10000",
         "0"
        ],
        [
         "3",
         "4",
         "1",
         "28",
         "10",
         "5.9",
         "4",
         "30",
         "8",
         "2",
         "140/90",
         "85",
         "3000",
         "2"
        ],
        [
         "4",
         "5",
         "1",
         "28",
         "10",
         "5.9",
         "4",
         "30",
         "8",
         "2",
         "140/90",
         "85",
         "3000",
         "2"
        ],
        [
         "5",
         "6",
         "1",
         "28",
         "8",
         "5.9",
         "4",
         "30",
         "8",
         "2",
         "140/90",
         "85",
         "3000",
         "1"
        ],
        [
         "6",
         "7",
         "1",
         "29",
         "5",
         "6.3",
         "6",
         "40",
         "7",
         "2",
         "140/90",
         "82",
         "3500",
         "1"
        ],
        [
         "7",
         "8",
         "1",
         "29",
         "1",
         "7.8",
         "7",
         "75",
         "6",
         "0",
         "120/80",
         "70",
         "8000",
         "0"
        ],
        [
         "8",
         "9",
         "1",
         "29",
         "1",
         "7.8",
         "7",
         "75",
         "6",
         "0",
         "120/80",
         "70",
         "8000",
         "0"
        ],
        [
         "9",
         "10",
         "1",
         "29",
         "1",
         "7.8",
         "7",
         "75",
         "6",
         "0",
         "120/80",
         "70",
         "8000",
         "0"
        ],
        [
         "10",
         "11",
         "1",
         "29",
         "1",
         "6.1",
         "6",
         "30",
         "8",
         "0",
         "120/80",
         "70",
         "8000",
         "0"
        ],
        [
         "11",
         "12",
         "1",
         "29",
         "1",
         "7.8",
         "7",
         "75",
         "6",
         "0",
         "120/80",
         "70",
         "8000",
         "0"
        ],
        [
         "12",
         "13",
         "1",
         "29",
         "1",
         "6.1",
         "6",
         "30",
         "8",
         "0",
         "120/80",
         "70",
         "8000",
         "0"
        ],
        [
         "13",
         "14",
         "1",
         "29",
         "1",
         "6.0",
         "6",
         "30",
         "8",
         "0",
         "120/80",
         "70",
         "8000",
         "0"
        ],
        [
         "14",
         "15",
         "1",
         "29",
         "1",
         "6.0",
         "6",
         "30",
         "8",
         "0",
         "120/80",
         "70",
         "8000",
         "0"
        ],
        [
         "15",
         "16",
         "1",
         "29",
         "1",
         "6.0",
         "6",
         "30",
         "8",
         "0",
         "120/80",
         "70",
         "8000",
         "0"
        ],
        [
         "16",
         "17",
         "0",
         "29",
         "0",
         "6.5",
         "5",
         "40",
         "7",
         "3",
         "132/87",
         "80",
         "4000",
         "2"
        ],
        [
         "17",
         "18",
         "1",
         "29",
         "1",
         "6.0",
         "6",
         "30",
         "8",
         "0",
         "120/80",
         "70",
         "8000",
         "2"
        ],
        [
         "18",
         "19",
         "0",
         "29",
         "0",
         "6.5",
         "5",
         "40",
         "7",
         "3",
         "132/87",
         "80",
         "4000",
         "1"
        ],
        [
         "19",
         "20",
         "1",
         "30",
         "1",
         "7.6",
         "7",
         "75",
         "6",
         "0",
         "120/80",
         "70",
         "8000",
         "0"
        ],
        [
         "20",
         "21",
         "1",
         "30",
         "1",
         "7.7",
         "7",
         "75",
         "6",
         "0",
         "120/80",
         "70",
         "8000",
         "0"
        ],
        [
         "21",
         "22",
         "1",
         "30",
         "1",
         "7.7",
         "7",
         "75",
         "6",
         "0",
         "120/80",
         "70",
         "8000",
         "0"
        ],
        [
         "22",
         "23",
         "1",
         "30",
         "1",
         "7.7",
         "7",
         "75",
         "6",
         "0",
         "120/80",
         "70",
         "8000",
         "0"
        ],
        [
         "23",
         "24",
         "1",
         "30",
         "1",
         "7.7",
         "7",
         "75",
         "6",
         "0",
         "120/80",
         "70",
         "8000",
         "0"
        ],
        [
         "24",
         "25",
         "1",
         "30",
         "1",
         "7.8",
         "7",
         "75",
         "6",
         "0",
         "120/80",
         "70",
         "8000",
         "0"
        ],
        [
         "25",
         "26",
         "1",
         "30",
         "1",
         "7.9",
         "7",
         "75",
         "6",
         "0",
         "120/80",
         "70",
         "8000",
         "0"
        ],
        [
         "26",
         "27",
         "1",
         "30",
         "1",
         "7.8",
         "7",
         "75",
         "6",
         "0",
         "120/80",
         "70",
         "8000",
         "0"
        ],
        [
         "27",
         "28",
         "1",
         "30",
         "1",
         "7.9",
         "7",
         "75",
         "6",
         "0",
         "120/80",
         "70",
         "8000",
         "0"
        ],
        [
         "28",
         "29",
         "1",
         "30",
         "1",
         "7.9",
         "7",
         "75",
         "6",
         "0",
         "120/80",
         "70",
         "8000",
         "0"
        ],
        [
         "29",
         "30",
         "1",
         "30",
         "1",
         "7.9",
         "7",
         "75",
         "6",
         "0",
         "120/80",
         "70",
         "8000",
         "0"
        ],
        [
         "30",
         "31",
         "0",
         "30",
         "0",
         "6.4",
         "5",
         "35",
         "7",
         "3",
         "130/86",
         "78",
         "4100",
         "2"
        ],
        [
         "31",
         "32",
         "0",
         "30",
         "0",
         "6.4",
         "5",
         "35",
         "7",
         "3",
         "130/86",
         "78",
         "4100",
         "1"
        ],
        [
         "32",
         "33",
         "0",
         "31",
         "0",
         "7.9",
         "8",
         "75",
         "4",
         "3",
         "117/76",
         "69",
         "6800",
         "0"
        ],
        [
         "33",
         "34",
         "1",
         "31",
         "1",
         "6.1",
         "6",
         "30",
         "8",
         "0",
         "125/80",
         "72",
         "5000",
         "0"
        ],
        [
         "34",
         "35",
         "1",
         "31",
         "1",
         "7.7",
         "7",
         "75",
         "6",
         "0",
         "120/80",
         "70",
         "8000",
         "0"
        ],
        [
         "35",
         "36",
         "1",
         "31",
         "1",
         "6.1",
         "6",
         "30",
         "8",
         "0",
         "125/80",
         "72",
         "5000",
         "0"
        ],
        [
         "36",
         "37",
         "1",
         "31",
         "1",
         "6.1",
         "6",
         "30",
         "8",
         "0",
         "125/80",
         "72",
         "5000",
         "0"
        ],
        [
         "37",
         "38",
         "1",
         "31",
         "1",
         "7.6",
         "7",
         "75",
         "6",
         "0",
         "120/80",
         "70",
         "8000",
         "0"
        ],
        [
         "38",
         "39",
         "1",
         "31",
         "1",
         "7.6",
         "7",
         "75",
         "6",
         "0",
         "120/80",
         "70",
         "8000",
         "0"
        ],
        [
         "39",
         "40",
         "1",
         "31",
         "1",
         "7.6",
         "7",
         "75",
         "6",
         "0",
         "120/80",
         "70",
         "8000",
         "0"
        ],
        [
         "40",
         "41",
         "1",
         "31",
         "1",
         "7.7",
         "7",
         "75",
         "6",
         "0",
         "120/80",
         "70",
         "8000",
         "0"
        ],
        [
         "41",
         "42",
         "1",
         "31",
         "1",
         "7.7",
         "7",
         "75",
         "6",
         "0",
         "120/80",
         "70",
         "8000",
         "0"
        ],
        [
         "42",
         "43",
         "1",
         "31",
         "1",
         "7.7",
         "7",
         "75",
         "6",
         "0",
         "120/80",
         "70",
         "8000",
         "0"
        ],
        [
         "43",
         "44",
         "1",
         "31",
         "1",
         "7.8",
         "7",
         "75",
         "6",
         "0",
         "120/80",
         "70",
         "8000",
         "0"
        ],
        [
         "44",
         "45",
         "1",
         "31",
         "1",
         "7.7",
         "7",
         "75",
         "6",
         "0",
         "120/80",
         "70",
         "8000",
         "0"
        ],
        [
         "45",
         "46",
         "1",
         "31",
         "1",
         "7.8",
         "7",
         "75",
         "6",
         "0",
         "120/80",
         "70",
         "8000",
         "0"
        ],
        [
         "46",
         "47",
         "1",
         "31",
         "1",
         "7.7",
         "7",
         "75",
         "6",
         "0",
         "120/80",
         "70",
         "8000",
         "0"
        ],
        [
         "47",
         "48",
         "1",
         "31",
         "1",
         "7.8",
         "7",
         "75",
         "6",
         "0",
         "120/80",
         "70",
         "8000",
         "0"
        ],
        [
         "48",
         "49",
         "1",
         "31",
         "1",
         "7.7",
         "7",
         "75",
         "6",
         "0",
         "120/80",
         "70",
         "8000",
         "0"
        ],
        [
         "49",
         "50",
         "1",
         "31",
         "1",
         "7.7",
         "7",
         "75",
         "6",
         "0",
         "120/80",
         "70",
         "8000",
         "2"
        ]
       ],
       "shape": {
        "columns": 13,
        "rows": 374
       }
      },
      "text/html": [
       "<div>\n",
       "<style scoped>\n",
       "    .dataframe tbody tr th:only-of-type {\n",
       "        vertical-align: middle;\n",
       "    }\n",
       "\n",
       "    .dataframe tbody tr th {\n",
       "        vertical-align: top;\n",
       "    }\n",
       "\n",
       "    .dataframe thead th {\n",
       "        text-align: right;\n",
       "    }\n",
       "</style>\n",
       "<table border=\"1\" class=\"dataframe\">\n",
       "  <thead>\n",
       "    <tr style=\"text-align: right;\">\n",
       "      <th></th>\n",
       "      <th>Person ID</th>\n",
       "      <th>Gender</th>\n",
       "      <th>Age</th>\n",
       "      <th>Occupation</th>\n",
       "      <th>Sleep Duration</th>\n",
       "      <th>Quality of Sleep</th>\n",
       "      <th>Physical Activity Level</th>\n",
       "      <th>Stress Level</th>\n",
       "      <th>BMI Category</th>\n",
       "      <th>Blood Pressure</th>\n",
       "      <th>Heart Rate</th>\n",
       "      <th>Daily Steps</th>\n",
       "      <th>Sleep Disorder</th>\n",
       "    </tr>\n",
       "  </thead>\n",
       "  <tbody>\n",
       "    <tr>\n",
       "      <th>0</th>\n",
       "      <td>1</td>\n",
       "      <td>1</td>\n",
       "      <td>27</td>\n",
       "      <td>8</td>\n",
       "      <td>6.1</td>\n",
       "      <td>6</td>\n",
       "      <td>42</td>\n",
       "      <td>6</td>\n",
       "      <td>1</td>\n",
       "      <td>126/83</td>\n",
       "      <td>77</td>\n",
       "      <td>4200</td>\n",
       "      <td>0</td>\n",
       "    </tr>\n",
       "    <tr>\n",
       "      <th>1</th>\n",
       "      <td>2</td>\n",
       "      <td>1</td>\n",
       "      <td>28</td>\n",
       "      <td>1</td>\n",
       "      <td>6.2</td>\n",
       "      <td>6</td>\n",
       "      <td>60</td>\n",
       "      <td>8</td>\n",
       "      <td>0</td>\n",
       "      <td>125/80</td>\n",
       "      <td>75</td>\n",
       "      <td>10000</td>\n",
       "      <td>0</td>\n",
       "    </tr>\n",
       "    <tr>\n",
       "      <th>2</th>\n",
       "      <td>3</td>\n",
       "      <td>1</td>\n",
       "      <td>28</td>\n",
       "      <td>1</td>\n",
       "      <td>6.2</td>\n",
       "      <td>6</td>\n",
       "      <td>60</td>\n",
       "      <td>8</td>\n",
       "      <td>0</td>\n",
       "      <td>125/80</td>\n",
       "      <td>75</td>\n",
       "      <td>10000</td>\n",
       "      <td>0</td>\n",
       "    </tr>\n",
       "    <tr>\n",
       "      <th>3</th>\n",
       "      <td>4</td>\n",
       "      <td>1</td>\n",
       "      <td>28</td>\n",
       "      <td>10</td>\n",
       "      <td>5.9</td>\n",
       "      <td>4</td>\n",
       "      <td>30</td>\n",
       "      <td>8</td>\n",
       "      <td>2</td>\n",
       "      <td>140/90</td>\n",
       "      <td>85</td>\n",
       "      <td>3000</td>\n",
       "      <td>2</td>\n",
       "    </tr>\n",
       "    <tr>\n",
       "      <th>4</th>\n",
       "      <td>5</td>\n",
       "      <td>1</td>\n",
       "      <td>28</td>\n",
       "      <td>10</td>\n",
       "      <td>5.9</td>\n",
       "      <td>4</td>\n",
       "      <td>30</td>\n",
       "      <td>8</td>\n",
       "      <td>2</td>\n",
       "      <td>140/90</td>\n",
       "      <td>85</td>\n",
       "      <td>3000</td>\n",
       "      <td>2</td>\n",
       "    </tr>\n",
       "    <tr>\n",
       "      <th>...</th>\n",
       "      <td>...</td>\n",
       "      <td>...</td>\n",
       "      <td>...</td>\n",
       "      <td>...</td>\n",
       "      <td>...</td>\n",
       "      <td>...</td>\n",
       "      <td>...</td>\n",
       "      <td>...</td>\n",
       "      <td>...</td>\n",
       "      <td>...</td>\n",
       "      <td>...</td>\n",
       "      <td>...</td>\n",
       "      <td>...</td>\n",
       "    </tr>\n",
       "    <tr>\n",
       "      <th>369</th>\n",
       "      <td>370</td>\n",
       "      <td>0</td>\n",
       "      <td>59</td>\n",
       "      <td>0</td>\n",
       "      <td>8.1</td>\n",
       "      <td>9</td>\n",
       "      <td>75</td>\n",
       "      <td>3</td>\n",
       "      <td>1</td>\n",
       "      <td>140/95</td>\n",
       "      <td>68</td>\n",
       "      <td>7000</td>\n",
       "      <td>2</td>\n",
       "    </tr>\n",
       "    <tr>\n",
       "      <th>370</th>\n",
       "      <td>371</td>\n",
       "      <td>0</td>\n",
       "      <td>59</td>\n",
       "      <td>0</td>\n",
       "      <td>8.0</td>\n",
       "      <td>9</td>\n",
       "      <td>75</td>\n",
       "      <td>3</td>\n",
       "      <td>1</td>\n",
       "      <td>140/95</td>\n",
       "      <td>68</td>\n",
       "      <td>7000</td>\n",
       "      <td>2</td>\n",
       "    </tr>\n",
       "    <tr>\n",
       "      <th>371</th>\n",
       "      <td>372</td>\n",
       "      <td>0</td>\n",
       "      <td>59</td>\n",
       "      <td>0</td>\n",
       "      <td>8.1</td>\n",
       "      <td>9</td>\n",
       "      <td>75</td>\n",
       "      <td>3</td>\n",
       "      <td>1</td>\n",
       "      <td>140/95</td>\n",
       "      <td>68</td>\n",
       "      <td>7000</td>\n",
       "      <td>2</td>\n",
       "    </tr>\n",
       "    <tr>\n",
       "      <th>372</th>\n",
       "      <td>373</td>\n",
       "      <td>0</td>\n",
       "      <td>59</td>\n",
       "      <td>0</td>\n",
       "      <td>8.1</td>\n",
       "      <td>9</td>\n",
       "      <td>75</td>\n",
       "      <td>3</td>\n",
       "      <td>1</td>\n",
       "      <td>140/95</td>\n",
       "      <td>68</td>\n",
       "      <td>7000</td>\n",
       "      <td>2</td>\n",
       "    </tr>\n",
       "    <tr>\n",
       "      <th>373</th>\n",
       "      <td>374</td>\n",
       "      <td>0</td>\n",
       "      <td>59</td>\n",
       "      <td>0</td>\n",
       "      <td>8.1</td>\n",
       "      <td>9</td>\n",
       "      <td>75</td>\n",
       "      <td>3</td>\n",
       "      <td>1</td>\n",
       "      <td>140/95</td>\n",
       "      <td>68</td>\n",
       "      <td>7000</td>\n",
       "      <td>2</td>\n",
       "    </tr>\n",
       "  </tbody>\n",
       "</table>\n",
       "<p>374 rows × 13 columns</p>\n",
       "</div>"
      ],
      "text/plain": [
       "     Person ID  Gender  Age  Occupation  Sleep Duration  Quality of Sleep  \\\n",
       "0            1       1   27           8             6.1                 6   \n",
       "1            2       1   28           1             6.2                 6   \n",
       "2            3       1   28           1             6.2                 6   \n",
       "3            4       1   28          10             5.9                 4   \n",
       "4            5       1   28          10             5.9                 4   \n",
       "..         ...     ...  ...         ...             ...               ...   \n",
       "369        370       0   59           0             8.1                 9   \n",
       "370        371       0   59           0             8.0                 9   \n",
       "371        372       0   59           0             8.1                 9   \n",
       "372        373       0   59           0             8.1                 9   \n",
       "373        374       0   59           0             8.1                 9   \n",
       "\n",
       "     Physical Activity Level  Stress Level  BMI Category Blood Pressure  \\\n",
       "0                         42             6             1         126/83   \n",
       "1                         60             8             0         125/80   \n",
       "2                         60             8             0         125/80   \n",
       "3                         30             8             2         140/90   \n",
       "4                         30             8             2         140/90   \n",
       "..                       ...           ...           ...            ...   \n",
       "369                       75             3             1         140/95   \n",
       "370                       75             3             1         140/95   \n",
       "371                       75             3             1         140/95   \n",
       "372                       75             3             1         140/95   \n",
       "373                       75             3             1         140/95   \n",
       "\n",
       "     Heart Rate  Daily Steps  Sleep Disorder  \n",
       "0            77         4200               0  \n",
       "1            75        10000               0  \n",
       "2            75        10000               0  \n",
       "3            85         3000               2  \n",
       "4            85         3000               2  \n",
       "..          ...          ...             ...  \n",
       "369          68         7000               2  \n",
       "370          68         7000               2  \n",
       "371          68         7000               2  \n",
       "372          68         7000               2  \n",
       "373          68         7000               2  \n",
       "\n",
       "[374 rows x 13 columns]"
      ]
     },
     "execution_count": 10,
     "metadata": {},
     "output_type": "execute_result"
    }
   ],
   "source": [
    "df_new = df.copy()\n",
    "\n",
    "df_new['Gender'] = df['Gender'].map({'Female': 0, 'Male':1})\n",
    "df_new['Occupation'] = df['Occupation'].map({'Nurse': 0, 'Doctor': 1, 'Engineer': 3, 'Lawyer': 4, 'Teacher': 5, 'Accountant': 6, 'Salesperson': 7, 'Software Engineer': 8, 'Scientist': 9, 'Sales Representative': 10, 'Manager': 11})\n",
    "df_new['BMI Category'] = df['BMI Category'].map({'Normal': 0, 'Overweight': 1, 'Obese': 2, 'Normal Weight': 3})\n",
    "df_new['Sleep Disorder'] = df['Sleep Disorder'].map({'None': 0, 'Insomnia': 1, 'Sleep Apnea': 2})\n",
    "df_new"
   ]
  },
  {
   "cell_type": "code",
   "execution_count": 11,
   "metadata": {},
   "outputs": [
    {
     "data": {
      "text/plain": [
       "Person ID  Gender  Age    Occupation  Sleep Duration  Quality of Sleep  Physical Activity Level  Stress Level  BMI Category  Blood Pressure  Heart Rate  Daily Steps  Sleep Disorder\n",
       "False      False   False  False       False           False             False                    False         False         False           False       False        False             374\n",
       "Name: count, dtype: int64"
      ]
     },
     "execution_count": 11,
     "metadata": {},
     "output_type": "execute_result"
    }
   ],
   "source": [
    "df_new.isna().value_counts()"
   ]
  },
  {
   "cell_type": "markdown",
   "metadata": {},
   "source": [
    "We didn't forget anything. Great!"
   ]
  },
  {
   "cell_type": "code",
   "execution_count": 12,
   "metadata": {},
   "outputs": [
    {
     "data": {
      "application/vnd.microsoft.datawrangler.viewer.v0+json": {
       "columns": [
        {
         "name": "index",
         "rawType": "int64",
         "type": "integer"
        },
        {
         "name": "Person ID",
         "rawType": "int64",
         "type": "integer"
        },
        {
         "name": "Gender",
         "rawType": "int64",
         "type": "integer"
        },
        {
         "name": "Age",
         "rawType": "int64",
         "type": "integer"
        },
        {
         "name": "Occupation",
         "rawType": "int64",
         "type": "integer"
        },
        {
         "name": "Sleep Duration",
         "rawType": "float64",
         "type": "float"
        },
        {
         "name": "Quality of Sleep",
         "rawType": "int64",
         "type": "integer"
        },
        {
         "name": "Physical Activity Level",
         "rawType": "int64",
         "type": "integer"
        },
        {
         "name": "Stress Level",
         "rawType": "int64",
         "type": "integer"
        },
        {
         "name": "BMI Category",
         "rawType": "int64",
         "type": "integer"
        },
        {
         "name": "Heart Rate",
         "rawType": "int64",
         "type": "integer"
        },
        {
         "name": "Daily Steps",
         "rawType": "int64",
         "type": "integer"
        },
        {
         "name": "Sleep Disorder",
         "rawType": "int64",
         "type": "integer"
        },
        {
         "name": "BP_Systolic",
         "rawType": "int32",
         "type": "integer"
        },
        {
         "name": "BP_Diastolic",
         "rawType": "int32",
         "type": "integer"
        }
       ],
       "conversionMethod": "pd.DataFrame",
       "ref": "9efa7a22-b94c-46e1-9887-469bddaad292",
       "rows": [
        [
         "0",
         "1",
         "1",
         "27",
         "8",
         "6.1",
         "6",
         "42",
         "6",
         "1",
         "77",
         "4200",
         "0",
         "126",
         "83"
        ],
        [
         "1",
         "2",
         "1",
         "28",
         "1",
         "6.2",
         "6",
         "60",
         "8",
         "0",
         "75",
         "10000",
         "0",
         "125",
         "80"
        ],
        [
         "2",
         "3",
         "1",
         "28",
         "1",
         "6.2",
         "6",
         "60",
         "8",
         "0",
         "75",
         "10000",
         "0",
         "125",
         "80"
        ],
        [
         "3",
         "4",
         "1",
         "28",
         "10",
         "5.9",
         "4",
         "30",
         "8",
         "2",
         "85",
         "3000",
         "2",
         "140",
         "90"
        ],
        [
         "4",
         "5",
         "1",
         "28",
         "10",
         "5.9",
         "4",
         "30",
         "8",
         "2",
         "85",
         "3000",
         "2",
         "140",
         "90"
        ]
       ],
       "shape": {
        "columns": 14,
        "rows": 5
       }
      },
      "text/html": [
       "<div>\n",
       "<style scoped>\n",
       "    .dataframe tbody tr th:only-of-type {\n",
       "        vertical-align: middle;\n",
       "    }\n",
       "\n",
       "    .dataframe tbody tr th {\n",
       "        vertical-align: top;\n",
       "    }\n",
       "\n",
       "    .dataframe thead th {\n",
       "        text-align: right;\n",
       "    }\n",
       "</style>\n",
       "<table border=\"1\" class=\"dataframe\">\n",
       "  <thead>\n",
       "    <tr style=\"text-align: right;\">\n",
       "      <th></th>\n",
       "      <th>Person ID</th>\n",
       "      <th>Gender</th>\n",
       "      <th>Age</th>\n",
       "      <th>Occupation</th>\n",
       "      <th>Sleep Duration</th>\n",
       "      <th>Quality of Sleep</th>\n",
       "      <th>Physical Activity Level</th>\n",
       "      <th>Stress Level</th>\n",
       "      <th>BMI Category</th>\n",
       "      <th>Heart Rate</th>\n",
       "      <th>Daily Steps</th>\n",
       "      <th>Sleep Disorder</th>\n",
       "      <th>BP_Systolic</th>\n",
       "      <th>BP_Diastolic</th>\n",
       "    </tr>\n",
       "  </thead>\n",
       "  <tbody>\n",
       "    <tr>\n",
       "      <th>0</th>\n",
       "      <td>1</td>\n",
       "      <td>1</td>\n",
       "      <td>27</td>\n",
       "      <td>8</td>\n",
       "      <td>6.1</td>\n",
       "      <td>6</td>\n",
       "      <td>42</td>\n",
       "      <td>6</td>\n",
       "      <td>1</td>\n",
       "      <td>77</td>\n",
       "      <td>4200</td>\n",
       "      <td>0</td>\n",
       "      <td>126</td>\n",
       "      <td>83</td>\n",
       "    </tr>\n",
       "    <tr>\n",
       "      <th>1</th>\n",
       "      <td>2</td>\n",
       "      <td>1</td>\n",
       "      <td>28</td>\n",
       "      <td>1</td>\n",
       "      <td>6.2</td>\n",
       "      <td>6</td>\n",
       "      <td>60</td>\n",
       "      <td>8</td>\n",
       "      <td>0</td>\n",
       "      <td>75</td>\n",
       "      <td>10000</td>\n",
       "      <td>0</td>\n",
       "      <td>125</td>\n",
       "      <td>80</td>\n",
       "    </tr>\n",
       "    <tr>\n",
       "      <th>2</th>\n",
       "      <td>3</td>\n",
       "      <td>1</td>\n",
       "      <td>28</td>\n",
       "      <td>1</td>\n",
       "      <td>6.2</td>\n",
       "      <td>6</td>\n",
       "      <td>60</td>\n",
       "      <td>8</td>\n",
       "      <td>0</td>\n",
       "      <td>75</td>\n",
       "      <td>10000</td>\n",
       "      <td>0</td>\n",
       "      <td>125</td>\n",
       "      <td>80</td>\n",
       "    </tr>\n",
       "    <tr>\n",
       "      <th>3</th>\n",
       "      <td>4</td>\n",
       "      <td>1</td>\n",
       "      <td>28</td>\n",
       "      <td>10</td>\n",
       "      <td>5.9</td>\n",
       "      <td>4</td>\n",
       "      <td>30</td>\n",
       "      <td>8</td>\n",
       "      <td>2</td>\n",
       "      <td>85</td>\n",
       "      <td>3000</td>\n",
       "      <td>2</td>\n",
       "      <td>140</td>\n",
       "      <td>90</td>\n",
       "    </tr>\n",
       "    <tr>\n",
       "      <th>4</th>\n",
       "      <td>5</td>\n",
       "      <td>1</td>\n",
       "      <td>28</td>\n",
       "      <td>10</td>\n",
       "      <td>5.9</td>\n",
       "      <td>4</td>\n",
       "      <td>30</td>\n",
       "      <td>8</td>\n",
       "      <td>2</td>\n",
       "      <td>85</td>\n",
       "      <td>3000</td>\n",
       "      <td>2</td>\n",
       "      <td>140</td>\n",
       "      <td>90</td>\n",
       "    </tr>\n",
       "  </tbody>\n",
       "</table>\n",
       "</div>"
      ],
      "text/plain": [
       "   Person ID  Gender  Age  Occupation  Sleep Duration  Quality of Sleep  \\\n",
       "0          1       1   27           8             6.1                 6   \n",
       "1          2       1   28           1             6.2                 6   \n",
       "2          3       1   28           1             6.2                 6   \n",
       "3          4       1   28          10             5.9                 4   \n",
       "4          5       1   28          10             5.9                 4   \n",
       "\n",
       "   Physical Activity Level  Stress Level  BMI Category  Heart Rate  \\\n",
       "0                       42             6             1          77   \n",
       "1                       60             8             0          75   \n",
       "2                       60             8             0          75   \n",
       "3                       30             8             2          85   \n",
       "4                       30             8             2          85   \n",
       "\n",
       "   Daily Steps  Sleep Disorder  BP_Systolic  BP_Diastolic  \n",
       "0         4200               0          126            83  \n",
       "1        10000               0          125            80  \n",
       "2        10000               0          125            80  \n",
       "3         3000               2          140            90  \n",
       "4         3000               2          140            90  "
      ]
     },
     "execution_count": 12,
     "metadata": {},
     "output_type": "execute_result"
    }
   ],
   "source": [
    "df_new[['BP_Systolic','BP_Diastolic']] = df_new['Blood Pressure'].str.split('/',expand=True).astype(int)\n",
    "df_new = df_new.drop('Blood Pressure',axis=1) \n",
    "df_new.head()"
   ]
  },
  {
   "cell_type": "markdown",
   "metadata": {},
   "source": [
    "Now we can work with this data. Cool!"
   ]
  },
  {
   "cell_type": "markdown",
   "metadata": {},
   "source": [
    "## Analysis and Vizualization"
   ]
  },
  {
   "cell_type": "markdown",
   "metadata": {},
   "source": [
    "##### Question 1. Which factor would contribute to a sleep disorder?"
   ]
  },
  {
   "cell_type": "code",
   "execution_count": 13,
   "metadata": {},
   "outputs": [
    {
     "data": {
      "application/vnd.microsoft.datawrangler.viewer.v0+json": {
       "columns": [
        {
         "name": "index",
         "rawType": "int64",
         "type": "integer"
        },
        {
         "name": "Person ID",
         "rawType": "int64",
         "type": "integer"
        },
        {
         "name": "Gender",
         "rawType": "int64",
         "type": "integer"
        },
        {
         "name": "Age",
         "rawType": "int64",
         "type": "integer"
        },
        {
         "name": "Occupation",
         "rawType": "int64",
         "type": "integer"
        },
        {
         "name": "Sleep Duration",
         "rawType": "float64",
         "type": "float"
        },
        {
         "name": "Quality of Sleep",
         "rawType": "int64",
         "type": "integer"
        },
        {
         "name": "Physical Activity Level",
         "rawType": "int64",
         "type": "integer"
        },
        {
         "name": "Stress Level",
         "rawType": "int64",
         "type": "integer"
        },
        {
         "name": "BMI Category",
         "rawType": "int64",
         "type": "integer"
        },
        {
         "name": "Heart Rate",
         "rawType": "int64",
         "type": "integer"
        },
        {
         "name": "Daily Steps",
         "rawType": "int64",
         "type": "integer"
        },
        {
         "name": "Sleep Disorder",
         "rawType": "int64",
         "type": "integer"
        },
        {
         "name": "BP_Systolic",
         "rawType": "int32",
         "type": "integer"
        },
        {
         "name": "BP_Diastolic",
         "rawType": "int32",
         "type": "integer"
        }
       ],
       "conversionMethod": "pd.DataFrame",
       "ref": "2cc9cb8c-49d9-4d65-89d5-c120f8ebb061",
       "rows": [
        [
         "0",
         "1",
         "1",
         "27",
         "8",
         "6.1",
         "6",
         "42",
         "6",
         "1",
         "77",
         "4200",
         "0",
         "126",
         "83"
        ],
        [
         "1",
         "2",
         "1",
         "28",
         "1",
         "6.2",
         "6",
         "60",
         "8",
         "0",
         "75",
         "10000",
         "0",
         "125",
         "80"
        ],
        [
         "2",
         "3",
         "1",
         "28",
         "1",
         "6.2",
         "6",
         "60",
         "8",
         "0",
         "75",
         "10000",
         "0",
         "125",
         "80"
        ],
        [
         "3",
         "4",
         "1",
         "28",
         "10",
         "5.9",
         "4",
         "30",
         "8",
         "2",
         "85",
         "3000",
         "2",
         "140",
         "90"
        ],
        [
         "4",
         "5",
         "1",
         "28",
         "10",
         "5.9",
         "4",
         "30",
         "8",
         "2",
         "85",
         "3000",
         "2",
         "140",
         "90"
        ]
       ],
       "shape": {
        "columns": 14,
        "rows": 5
       }
      },
      "text/html": [
       "<div>\n",
       "<style scoped>\n",
       "    .dataframe tbody tr th:only-of-type {\n",
       "        vertical-align: middle;\n",
       "    }\n",
       "\n",
       "    .dataframe tbody tr th {\n",
       "        vertical-align: top;\n",
       "    }\n",
       "\n",
       "    .dataframe thead th {\n",
       "        text-align: right;\n",
       "    }\n",
       "</style>\n",
       "<table border=\"1\" class=\"dataframe\">\n",
       "  <thead>\n",
       "    <tr style=\"text-align: right;\">\n",
       "      <th></th>\n",
       "      <th>Person ID</th>\n",
       "      <th>Gender</th>\n",
       "      <th>Age</th>\n",
       "      <th>Occupation</th>\n",
       "      <th>Sleep Duration</th>\n",
       "      <th>Quality of Sleep</th>\n",
       "      <th>Physical Activity Level</th>\n",
       "      <th>Stress Level</th>\n",
       "      <th>BMI Category</th>\n",
       "      <th>Heart Rate</th>\n",
       "      <th>Daily Steps</th>\n",
       "      <th>Sleep Disorder</th>\n",
       "      <th>BP_Systolic</th>\n",
       "      <th>BP_Diastolic</th>\n",
       "    </tr>\n",
       "  </thead>\n",
       "  <tbody>\n",
       "    <tr>\n",
       "      <th>0</th>\n",
       "      <td>1</td>\n",
       "      <td>1</td>\n",
       "      <td>27</td>\n",
       "      <td>8</td>\n",
       "      <td>6.1</td>\n",
       "      <td>6</td>\n",
       "      <td>42</td>\n",
       "      <td>6</td>\n",
       "      <td>1</td>\n",
       "      <td>77</td>\n",
       "      <td>4200</td>\n",
       "      <td>0</td>\n",
       "      <td>126</td>\n",
       "      <td>83</td>\n",
       "    </tr>\n",
       "    <tr>\n",
       "      <th>1</th>\n",
       "      <td>2</td>\n",
       "      <td>1</td>\n",
       "      <td>28</td>\n",
       "      <td>1</td>\n",
       "      <td>6.2</td>\n",
       "      <td>6</td>\n",
       "      <td>60</td>\n",
       "      <td>8</td>\n",
       "      <td>0</td>\n",
       "      <td>75</td>\n",
       "      <td>10000</td>\n",
       "      <td>0</td>\n",
       "      <td>125</td>\n",
       "      <td>80</td>\n",
       "    </tr>\n",
       "    <tr>\n",
       "      <th>2</th>\n",
       "      <td>3</td>\n",
       "      <td>1</td>\n",
       "      <td>28</td>\n",
       "      <td>1</td>\n",
       "      <td>6.2</td>\n",
       "      <td>6</td>\n",
       "      <td>60</td>\n",
       "      <td>8</td>\n",
       "      <td>0</td>\n",
       "      <td>75</td>\n",
       "      <td>10000</td>\n",
       "      <td>0</td>\n",
       "      <td>125</td>\n",
       "      <td>80</td>\n",
       "    </tr>\n",
       "    <tr>\n",
       "      <th>3</th>\n",
       "      <td>4</td>\n",
       "      <td>1</td>\n",
       "      <td>28</td>\n",
       "      <td>10</td>\n",
       "      <td>5.9</td>\n",
       "      <td>4</td>\n",
       "      <td>30</td>\n",
       "      <td>8</td>\n",
       "      <td>2</td>\n",
       "      <td>85</td>\n",
       "      <td>3000</td>\n",
       "      <td>2</td>\n",
       "      <td>140</td>\n",
       "      <td>90</td>\n",
       "    </tr>\n",
       "    <tr>\n",
       "      <th>4</th>\n",
       "      <td>5</td>\n",
       "      <td>1</td>\n",
       "      <td>28</td>\n",
       "      <td>10</td>\n",
       "      <td>5.9</td>\n",
       "      <td>4</td>\n",
       "      <td>30</td>\n",
       "      <td>8</td>\n",
       "      <td>2</td>\n",
       "      <td>85</td>\n",
       "      <td>3000</td>\n",
       "      <td>2</td>\n",
       "      <td>140</td>\n",
       "      <td>90</td>\n",
       "    </tr>\n",
       "  </tbody>\n",
       "</table>\n",
       "</div>"
      ],
      "text/plain": [
       "   Person ID  Gender  Age  Occupation  Sleep Duration  Quality of Sleep  \\\n",
       "0          1       1   27           8             6.1                 6   \n",
       "1          2       1   28           1             6.2                 6   \n",
       "2          3       1   28           1             6.2                 6   \n",
       "3          4       1   28          10             5.9                 4   \n",
       "4          5       1   28          10             5.9                 4   \n",
       "\n",
       "   Physical Activity Level  Stress Level  BMI Category  Heart Rate  \\\n",
       "0                       42             6             1          77   \n",
       "1                       60             8             0          75   \n",
       "2                       60             8             0          75   \n",
       "3                       30             8             2          85   \n",
       "4                       30             8             2          85   \n",
       "\n",
       "   Daily Steps  Sleep Disorder  BP_Systolic  BP_Diastolic  \n",
       "0         4200               0          126            83  \n",
       "1        10000               0          125            80  \n",
       "2        10000               0          125            80  \n",
       "3         3000               2          140            90  \n",
       "4         3000               2          140            90  "
      ]
     },
     "execution_count": 13,
     "metadata": {},
     "output_type": "execute_result"
    }
   ],
   "source": [
    "df_new.head()"
   ]
  },
  {
   "cell_type": "code",
   "execution_count": 14,
   "metadata": {},
   "outputs": [
    {
     "data": {
      "image/png": "[encoded data removed]",
      "text/plain": [
       "<Figure size 800x500 with 2 Axes>"
      ]
     },
     "metadata": {},
     "output_type": "display_data"
    }
   ],
   "source": [
    "SD_corr = df_new.corr()[['Sleep Disorder']].sort_values(by='Sleep Disorder', ascending=False)\n",
    "plt.figure(figsize=(8,5))\n",
    "sns.heatmap(SD_corr,cmap='coolwarm',annot=True,fmt=\".2f\")\n",
    "\n",
    "plt.title('Correlation with Sleep Disorder')\n",
    "plt.show()"
   ]
  },
  {
   "cell_type": "code",
   "execution_count": 15,
   "metadata": {},
   "outputs": [
    {
     "data": {
      "image/png": "[encoded data removed]",
      "text/plain": [
       "<Figure size 800x500 with 1 Axes>"
      ]
     },
     "metadata": {},
     "output_type": "display_data"
    }
   ],
   "source": [
    "plt.figure(figsize=(8,5))\n",
    "sns.pointplot(data=df_new, y='BP_Systolic', x='Sleep Disorder')\n",
    "sns.pointplot(data=df_new, y='BP_Diastolic', x='Sleep Disorder')\n",
    "plt.title('Sleep Disorders by Blood Pressure')\n",
    "plt.show()"
   ]
  },
  {
   "cell_type": "markdown",
   "metadata": {},
   "source": [
    " Answer: Correlation matrix and point plot shows us that main factor that causes Sleep Disorders is a Blood Pressure."
   ]
  },
  {
   "cell_type": "markdown",
   "metadata": {},
   "source": [
    "##### Question 2. Does an increased physical activity level result in a better quality of sleep?"
   ]
  },
  {
   "cell_type": "code",
   "execution_count": 16,
   "metadata": {},
   "outputs": [
    {
     "data": {
      "application/vnd.microsoft.datawrangler.viewer.v0+json": {
       "columns": [
        {
         "name": "index",
         "rawType": "int64",
         "type": "integer"
        },
        {
         "name": "Person ID",
         "rawType": "int64",
         "type": "integer"
        },
        {
         "name": "Gender",
         "rawType": "int64",
         "type": "integer"
        },
        {
         "name": "Age",
         "rawType": "int64",
         "type": "integer"
        },
        {
         "name": "Occupation",
         "rawType": "int64",
         "type": "integer"
        },
        {
         "name": "Sleep Duration",
         "rawType": "float64",
         "type": "float"
        },
        {
         "name": "Quality of Sleep",
         "rawType": "int64",
         "type": "integer"
        },
        {
         "name": "Physical Activity Level",
         "rawType": "int64",
         "type": "integer"
        },
        {
         "name": "Stress Level",
         "rawType": "int64",
         "type": "integer"
        },
        {
         "name": "BMI Category",
         "rawType": "int64",
         "type": "integer"
        },
        {
         "name": "Heart Rate",
         "rawType": "int64",
         "type": "integer"
        },
        {
         "name": "Daily Steps",
         "rawType": "int64",
         "type": "integer"
        },
        {
         "name": "Sleep Disorder",
         "rawType": "int64",
         "type": "integer"
        },
        {
         "name": "BP_Systolic",
         "rawType": "int32",
         "type": "integer"
        },
        {
         "name": "BP_Diastolic",
         "rawType": "int32",
         "type": "integer"
        }
       ],
       "conversionMethod": "pd.DataFrame",
       "ref": "d6273d62-0f87-4381-8234-7d65fc8cd663",
       "rows": [
        [
         "0",
         "1",
         "1",
         "27",
         "8",
         "6.1",
         "6",
         "42",
         "6",
         "1",
         "77",
         "4200",
         "0",
         "126",
         "83"
        ],
        [
         "1",
         "2",
         "1",
         "28",
         "1",
         "6.2",
         "6",
         "60",
         "8",
         "0",
         "75",
         "10000",
         "0",
         "125",
         "80"
        ],
        [
         "2",
         "3",
         "1",
         "28",
         "1",
         "6.2",
         "6",
         "60",
         "8",
         "0",
         "75",
         "10000",
         "0",
         "125",
         "80"
        ],
        [
         "3",
         "4",
         "1",
         "28",
         "10",
         "5.9",
         "4",
         "30",
         "8",
         "2",
         "85",
         "3000",
         "2",
         "140",
         "90"
        ],
        [
         "4",
         "5",
         "1",
         "28",
         "10",
         "5.9",
         "4",
         "30",
         "8",
         "2",
         "85",
         "3000",
         "2",
         "140",
         "90"
        ]
       ],
       "shape": {
        "columns": 14,
        "rows": 5
       }
      },
      "text/html": [
       "<div>\n",
       "<style scoped>\n",
       "    .dataframe tbody tr th:only-of-type {\n",
       "        vertical-align: middle;\n",
       "    }\n",
       "\n",
       "    .dataframe tbody tr th {\n",
       "        vertical-align: top;\n",
       "    }\n",
       "\n",
       "    .dataframe thead th {\n",
       "        text-align: right;\n",
       "    }\n",
       "</style>\n",
       "<table border=\"1\" class=\"dataframe\">\n",
       "  <thead>\n",
       "    <tr style=\"text-align: right;\">\n",
       "      <th></th>\n",
       "      <th>Person ID</th>\n",
       "      <th>Gender</th>\n",
       "      <th>Age</th>\n",
       "      <th>Occupation</th>\n",
       "      <th>Sleep Duration</th>\n",
       "      <th>Quality of Sleep</th>\n",
       "      <th>Physical Activity Level</th>\n",
       "      <th>Stress Level</th>\n",
       "      <th>BMI Category</th>\n",
       "      <th>Heart Rate</th>\n",
       "      <th>Daily Steps</th>\n",
       "      <th>Sleep Disorder</th>\n",
       "      <th>BP_Systolic</th>\n",
       "      <th>BP_Diastolic</th>\n",
       "    </tr>\n",
       "  </thead>\n",
       "  <tbody>\n",
       "    <tr>\n",
       "      <th>0</th>\n",
       "      <td>1</td>\n",
       "      <td>1</td>\n",
       "      <td>27</td>\n",
       "      <td>8</td>\n",
       "      <td>6.1</td>\n",
       "      <td>6</td>\n",
       "      <td>42</td>\n",
       "      <td>6</td>\n",
       "      <td>1</td>\n",
       "      <td>77</td>\n",
       "      <td>4200</td>\n",
       "      <td>0</td>\n",
       "      <td>126</td>\n",
       "      <td>83</td>\n",
       "    </tr>\n",
       "    <tr>\n",
       "      <th>1</th>\n",
       "      <td>2</td>\n",
       "      <td>1</td>\n",
       "      <td>28</td>\n",
       "      <td>1</td>\n",
       "      <td>6.2</td>\n",
       "      <td>6</td>\n",
       "      <td>60</td>\n",
       "      <td>8</td>\n",
       "      <td>0</td>\n",
       "      <td>75</td>\n",
       "      <td>10000</td>\n",
       "      <td>0</td>\n",
       "      <td>125</td>\n",
       "      <td>80</td>\n",
       "    </tr>\n",
       "    <tr>\n",
       "      <th>2</th>\n",
       "      <td>3</td>\n",
       "      <td>1</td>\n",
       "      <td>28</td>\n",
       "      <td>1</td>\n",
       "      <td>6.2</td>\n",
       "      <td>6</td>\n",
       "      <td>60</td>\n",
       "      <td>8</td>\n",
       "      <td>0</td>\n",
       "      <td>75</td>\n",
       "      <td>10000</td>\n",
       "      <td>0</td>\n",
       "      <td>125</td>\n",
       "      <td>80</td>\n",
       "    </tr>\n",
       "    <tr>\n",
       "      <th>3</th>\n",
       "      <td>4</td>\n",
       "      <td>1</td>\n",
       "      <td>28</td>\n",
       "      <td>10</td>\n",
       "      <td>5.9</td>\n",
       "      <td>4</td>\n",
       "      <td>30</td>\n",
       "      <td>8</td>\n",
       "      <td>2</td>\n",
       "      <td>85</td>\n",
       "      <td>3000</td>\n",
       "      <td>2</td>\n",
       "      <td>140</td>\n",
       "      <td>90</td>\n",
       "    </tr>\n",
       "    <tr>\n",
       "      <th>4</th>\n",
       "      <td>5</td>\n",
       "      <td>1</td>\n",
       "      <td>28</td>\n",
       "      <td>10</td>\n",
       "      <td>5.9</td>\n",
       "      <td>4</td>\n",
       "      <td>30</td>\n",
       "      <td>8</td>\n",
       "      <td>2</td>\n",
       "      <td>85</td>\n",
       "      <td>3000</td>\n",
       "      <td>2</td>\n",
       "      <td>140</td>\n",
       "      <td>90</td>\n",
       "    </tr>\n",
       "  </tbody>\n",
       "</table>\n",
       "</div>"
      ],
      "text/plain": [
       "   Person ID  Gender  Age  Occupation  Sleep Duration  Quality of Sleep  \\\n",
       "0          1       1   27           8             6.1                 6   \n",
       "1          2       1   28           1             6.2                 6   \n",
       "2          3       1   28           1             6.2                 6   \n",
       "3          4       1   28          10             5.9                 4   \n",
       "4          5       1   28          10             5.9                 4   \n",
       "\n",
       "   Physical Activity Level  Stress Level  BMI Category  Heart Rate  \\\n",
       "0                       42             6             1          77   \n",
       "1                       60             8             0          75   \n",
       "2                       60             8             0          75   \n",
       "3                       30             8             2          85   \n",
       "4                       30             8             2          85   \n",
       "\n",
       "   Daily Steps  Sleep Disorder  BP_Systolic  BP_Diastolic  \n",
       "0         4200               0          126            83  \n",
       "1        10000               0          125            80  \n",
       "2        10000               0          125            80  \n",
       "3         3000               2          140            90  \n",
       "4         3000               2          140            90  "
      ]
     },
     "execution_count": 16,
     "metadata": {},
     "output_type": "execute_result"
    }
   ],
   "source": [
    "df_new.head()"
   ]
  },
  {
   "cell_type": "code",
   "execution_count": 17,
   "metadata": {},
   "outputs": [
    {
     "data": {
      "image/png": "[encoded data removed]",
      "text/plain": [
       "<Figure size 800x500 with 1 Axes>"
      ]
     },
     "metadata": {},
     "output_type": "display_data"
    }
   ],
   "source": [
    "plt.figure(figsize=(8,5))\n",
    "\n",
    "plt.boxplot(df_new['Physical Activity Level'])\n",
    "\n",
    "plt.title('Physical Activity Level')\n",
    "\n",
    "plt.show()"
   ]
  },
  {
   "cell_type": "code",
   "execution_count": 18,
   "metadata": {},
   "outputs": [
    {
     "data": {
      "image/png": "[encoded data removed]",
      "text/plain": [
       "<Figure size 800x500 with 2 Axes>"
      ]
     },
     "metadata": {},
     "output_type": "display_data"
    }
   ],
   "source": [
    "SD_corr = df_new.corr()[['Quality of Sleep']]\n",
    "plt.figure(figsize=(8,5))\n",
    "sns.heatmap(SD_corr,cmap='coolwarm',annot=True,fmt=\".2f\")\n",
    "\n",
    "plt.title('Correlation with Quality of Sleep')\n",
    "plt.show()"
   ]
  },
  {
   "cell_type": "code",
   "execution_count": 19,
   "metadata": {},
   "outputs": [
    {
     "data": {
      "image/png": "[encoded data removed]",
      "text/plain": [
       "<Figure size 800x500 with 1 Axes>"
      ]
     },
     "metadata": {},
     "output_type": "display_data"
    }
   ],
   "source": [
    "plt.figure(figsize=(8,5))\n",
    "\n",
    "plt.scatter(df_new['Physical Activity Level'],df_new['Quality of Sleep'])\n",
    "\n",
    "plt.xlabel('Physical Activity Level')\n",
    "plt.ylabel('Quality of Sleep')  \n",
    "plt.title('')\n",
    "\n",
    "plt.show()"
   ]
  },
  {
   "cell_type": "code",
   "execution_count": 20,
   "metadata": {},
   "outputs": [
    {
     "data": {
      "image/png": "[encoded data removed]",
      "text/plain": [
       "<Figure size 800x500 with 1 Axes>"
      ]
     },
     "metadata": {},
     "output_type": "display_data"
    }
   ],
   "source": [
    "plt.figure(figsize=(8,5))\n",
    "\n",
    "plt.scatter(df_new['Sleep Duration'],df_new['Quality of Sleep'])\n",
    "\n",
    "plt.xlabel('')  \n",
    "plt.title('Physical Activity Level')\n",
    "\n",
    "plt.show()"
   ]
  },
  {
   "cell_type": "code",
   "execution_count": 21,
   "metadata": {},
   "outputs": [
    {
     "data": {
      "image/png": "[encoded data removed]",
      "text/plain": [
       "<Figure size 800x500 with 1 Axes>"
      ]
     },
     "metadata": {},
     "output_type": "display_data"
    }
   ],
   "source": [
    "plt.figure(figsize=(8,5))\n",
    "\n",
    "plt.scatter(df_new['Stress Level'],df_new['Quality of Sleep'])\n",
    "\n",
    "plt.xlabel('')  \n",
    "plt.title('Physical Activity Level')\n",
    "\n",
    "plt.show()"
   ]
  },
  {
   "cell_type": "markdown",
   "metadata": {},
   "source": [
    "Answer: An Increased Physical Activity does not affect much on Quality of Sleep as Sleep Duration and Stress Level"
   ]
  },
  {
   "cell_type": "markdown",
   "metadata": {},
   "source": [
    "##### Question 3. Does the presence of a sleep disorder affect the subjective sleep quality metric?"
   ]
  },
  {
   "cell_type": "code",
   "execution_count": 22,
   "metadata": {},
   "outputs": [
    {
     "name": "stderr",
     "output_type": "stream",
     "text": [
      "C:\\Users\\shunp\\AppData\\Local\\Temp\\ipykernel_11928\\3654143872.py:7: UserWarning: set_ticklabels() should only be used with a fixed number of ticks, i.e. after set_ticks() or using a FixedLocator.\n",
      "  plot.set_xticklabels(labels)\n"
     ]
    },
    {
     "data": {
      "image/png": "[encoded data removed]",
      "text/plain": [
       "<Figure size 800x500 with 1 Axes>"
      ]
     },
     "metadata": {},
     "output_type": "display_data"
    }
   ],
   "source": [
    "plt.figure(figsize=(8,5))\n",
    "\n",
    "labels = ['None','Sleep Apnea', 'Insomnia']\n",
    "\n",
    "plot = sns.boxplot(data=df_new, x='Sleep Disorder', y='Quality of Sleep')\n",
    "\n",
    "plot.set_xticklabels(labels)\n",
    "\n",
    "plt.xlabel('')  \n",
    "plt.title('')\n",
    "\n",
    "plt.show()"
   ]
  },
  {
   "cell_type": "markdown",
   "metadata": {},
   "source": [
    "Answer: Yes, pressence of a Sleep Disorder affects Quality of sleep badly. People with no disorder have a good quality, people with Sleep Apnea have worse quality, while people with Insomnia spreads for all quality scores."
   ]
  },
  {
   "cell_type": "markdown",
   "metadata": {},
   "source": [
    "##### Question 4. What's the difference of sleep quality for each occupation?"
   ]
  },
  {
   "cell_type": "code",
   "execution_count": 23,
   "metadata": {},
   "outputs": [
    {
     "data": {
      "application/vnd.microsoft.datawrangler.viewer.v0+json": {
       "columns": [
        {
         "name": "index",
         "rawType": "int64",
         "type": "integer"
        },
        {
         "name": "Person ID",
         "rawType": "int64",
         "type": "integer"
        },
        {
         "name": "Gender",
         "rawType": "int64",
         "type": "integer"
        },
        {
         "name": "Age",
         "rawType": "int64",
         "type": "integer"
        },
        {
         "name": "Occupation",
         "rawType": "int64",
         "type": "integer"
        },
        {
         "name": "Sleep Duration",
         "rawType": "float64",
         "type": "float"
        },
        {
         "name": "Quality of Sleep",
         "rawType": "int64",
         "type": "integer"
        },
        {
         "name": "Physical Activity Level",
         "rawType": "int64",
         "type": "integer"
        },
        {
         "name": "Stress Level",
         "rawType": "int64",
         "type": "integer"
        },
        {
         "name": "BMI Category",
         "rawType": "int64",
         "type": "integer"
        },
        {
         "name": "Heart Rate",
         "rawType": "int64",
         "type": "integer"
        },
        {
         "name": "Daily Steps",
         "rawType": "int64",
         "type": "integer"
        },
        {
         "name": "Sleep Disorder",
         "rawType": "int64",
         "type": "integer"
        },
        {
         "name": "BP_Systolic",
         "rawType": "int32",
         "type": "integer"
        },
        {
         "name": "BP_Diastolic",
         "rawType": "int32",
         "type": "integer"
        }
       ],
       "conversionMethod": "pd.DataFrame",
       "ref": "56705f0e-2028-44b0-9bf7-9a4b2e2a6b02",
       "rows": [
        [
         "0",
         "1",
         "1",
         "27",
         "8",
         "6.1",
         "6",
         "42",
         "6",
         "1",
         "77",
         "4200",
         "0",
         "126",
         "83"
        ],
        [
         "1",
         "2",
         "1",
         "28",
         "1",
         "6.2",
         "6",
         "60",
         "8",
         "0",
         "75",
         "10000",
         "0",
         "125",
         "80"
        ],
        [
         "2",
         "3",
         "1",
         "28",
         "1",
         "6.2",
         "6",
         "60",
         "8",
         "0",
         "75",
         "10000",
         "0",
         "125",
         "80"
        ],
        [
         "3",
         "4",
         "1",
         "28",
         "10",
         "5.9",
         "4",
         "30",
         "8",
         "2",
         "85",
         "3000",
         "2",
         "140",
         "90"
        ],
        [
         "4",
         "5",
         "1",
         "28",
         "10",
         "5.9",
         "4",
         "30",
         "8",
         "2",
         "85",
         "3000",
         "2",
         "140",
         "90"
        ]
       ],
       "shape": {
        "columns": 14,
        "rows": 5
       }
      },
      "text/html": [
       "<div>\n",
       "<style scoped>\n",
       "    .dataframe tbody tr th:only-of-type {\n",
       "        vertical-align: middle;\n",
       "    }\n",
       "\n",
       "    .dataframe tbody tr th {\n",
       "        vertical-align: top;\n",
       "    }\n",
       "\n",
       "    .dataframe thead th {\n",
       "        text-align: right;\n",
       "    }\n",
       "</style>\n",
       "<table border=\"1\" class=\"dataframe\">\n",
       "  <thead>\n",
       "    <tr style=\"text-align: right;\">\n",
       "      <th></th>\n",
       "      <th>Person ID</th>\n",
       "      <th>Gender</th>\n",
       "      <th>Age</th>\n",
       "      <th>Occupation</th>\n",
       "      <th>Sleep Duration</th>\n",
       "      <th>Quality of Sleep</th>\n",
       "      <th>Physical Activity Level</th>\n",
       "      <th>Stress Level</th>\n",
       "      <th>BMI Category</th>\n",
       "      <th>Heart Rate</th>\n",
       "      <th>Daily Steps</th>\n",
       "      <th>Sleep Disorder</th>\n",
       "      <th>BP_Systolic</th>\n",
       "      <th>BP_Diastolic</th>\n",
       "    </tr>\n",
       "  </thead>\n",
       "  <tbody>\n",
       "    <tr>\n",
       "      <th>0</th>\n",
       "      <td>1</td>\n",
       "      <td>1</td>\n",
       "      <td>27</td>\n",
       "      <td>8</td>\n",
       "      <td>6.1</td>\n",
       "      <td>6</td>\n",
       "      <td>42</td>\n",
       "      <td>6</td>\n",
       "      <td>1</td>\n",
       "      <td>77</td>\n",
       "      <td>4200</td>\n",
       "      <td>0</td>\n",
       "      <td>126</td>\n",
       "      <td>83</td>\n",
       "    </tr>\n",
       "    <tr>\n",
       "      <th>1</th>\n",
       "      <td>2</td>\n",
       "      <td>1</td>\n",
       "      <td>28</td>\n",
       "      <td>1</td>\n",
       "      <td>6.2</td>\n",
       "      <td>6</td>\n",
       "      <td>60</td>\n",
       "      <td>8</td>\n",
       "      <td>0</td>\n",
       "      <td>75</td>\n",
       "      <td>10000</td>\n",
       "      <td>0</td>\n",
       "      <td>125</td>\n",
       "      <td>80</td>\n",
       "    </tr>\n",
       "    <tr>\n",
       "      <th>2</th>\n",
       "      <td>3</td>\n",
       "      <td>1</td>\n",
       "      <td>28</td>\n",
       "      <td>1</td>\n",
       "      <td>6.2</td>\n",
       "      <td>6</td>\n",
       "      <td>60</td>\n",
       "      <td>8</td>\n",
       "      <td>0</td>\n",
       "      <td>75</td>\n",
       "      <td>10000</td>\n",
       "      <td>0</td>\n",
       "      <td>125</td>\n",
       "      <td>80</td>\n",
       "    </tr>\n",
       "    <tr>\n",
       "      <th>3</th>\n",
       "      <td>4</td>\n",
       "      <td>1</td>\n",
       "      <td>28</td>\n",
       "      <td>10</td>\n",
       "      <td>5.9</td>\n",
       "      <td>4</td>\n",
       "      <td>30</td>\n",
       "      <td>8</td>\n",
       "      <td>2</td>\n",
       "      <td>85</td>\n",
       "      <td>3000</td>\n",
       "      <td>2</td>\n",
       "      <td>140</td>\n",
       "      <td>90</td>\n",
       "    </tr>\n",
       "    <tr>\n",
       "      <th>4</th>\n",
       "      <td>5</td>\n",
       "      <td>1</td>\n",
       "      <td>28</td>\n",
       "      <td>10</td>\n",
       "      <td>5.9</td>\n",
       "      <td>4</td>\n",
       "      <td>30</td>\n",
       "      <td>8</td>\n",
       "      <td>2</td>\n",
       "      <td>85</td>\n",
       "      <td>3000</td>\n",
       "      <td>2</td>\n",
       "      <td>140</td>\n",
       "      <td>90</td>\n",
       "    </tr>\n",
       "  </tbody>\n",
       "</table>\n",
       "</div>"
      ],
      "text/plain": [
       "   Person ID  Gender  Age  Occupation  Sleep Duration  Quality of Sleep  \\\n",
       "0          1       1   27           8             6.1                 6   \n",
       "1          2       1   28           1             6.2                 6   \n",
       "2          3       1   28           1             6.2                 6   \n",
       "3          4       1   28          10             5.9                 4   \n",
       "4          5       1   28          10             5.9                 4   \n",
       "\n",
       "   Physical Activity Level  Stress Level  BMI Category  Heart Rate  \\\n",
       "0                       42             6             1          77   \n",
       "1                       60             8             0          75   \n",
       "2                       60             8             0          75   \n",
       "3                       30             8             2          85   \n",
       "4                       30             8             2          85   \n",
       "\n",
       "   Daily Steps  Sleep Disorder  BP_Systolic  BP_Diastolic  \n",
       "0         4200               0          126            83  \n",
       "1        10000               0          125            80  \n",
       "2        10000               0          125            80  \n",
       "3         3000               2          140            90  \n",
       "4         3000               2          140            90  "
      ]
     },
     "execution_count": 23,
     "metadata": {},
     "output_type": "execute_result"
    }
   ],
   "source": [
    "df_new.head()"
   ]
  },
  {
   "cell_type": "code",
   "execution_count": 24,
   "metadata": {},
   "outputs": [
    {
     "data": {
      "image/png": "[encoded data removed]",
      "text/plain": [
       "<Figure size 1500x900 with 1 Axes>"
      ]
     },
     "metadata": {},
     "output_type": "display_data"
    }
   ],
   "source": [
    "plt.figure(figsize=(15,9))\n",
    "\n",
    "lab = ['Nurse','Doctor', 'Engineer', 'Lawyer', 'Teacher' ,'Accountant', 'Salesperson', 'Software Engineer', 'Scientis', 'Sales Representative', 'Manager']\n",
    "expl = [0,0,0,0,0,0,0,0.5,0.4,0.3,0.2]\n",
    "\n",
    "plt.pie(df['Occupation'].value_counts(), explode=expl, autopct='%.2f')\n",
    "\n",
    "plt.legend(lab)\n",
    "plt.title('Occupation distribution')\n",
    "\n",
    "plt.show()"
   ]
  },
  {
   "cell_type": "code",
   "execution_count": 25,
   "metadata": {},
   "outputs": [
    {
     "data": {
      "image/png": "[encoded data removed]",
      "text/plain": [
       "<Figure size 1000x600 with 1 Axes>"
      ]
     },
     "metadata": {},
     "output_type": "display_data"
    }
   ],
   "source": [
    "plt.figure(figsize=(10, 6))\n",
    "\n",
    "order = df.groupby('Occupation')['Quality of Sleep'].mean().sort_values(ascending=False)\n",
    "\n",
    "sns.barplot(x=order.index, y=order.values)\n",
    "\n",
    "plt.xticks(rotation=45)  \n",
    "plt.xlabel('Occupation')\n",
    "plt.ylabel('Average Quality of Sleep ')\n",
    "plt.title('Sleep Quality by Occupation')\n",
    "\n",
    "plt.show()"
   ]
  },
  {
   "cell_type": "markdown",
   "metadata": {},
   "source": [
    "Answer: I can't say that occupation affects sleep quality. So low level for Sales Representative can be explained by low amount of data for them"
   ]
  },
  {
   "cell_type": "markdown",
   "metadata": {},
   "source": [
    "##### Question 5. Whats the link between age and sleep duration?"
   ]
  },
  {
   "cell_type": "code",
   "execution_count": 26,
   "metadata": {},
   "outputs": [
    {
     "data": {
      "image/png": "[encoded data removed]",
      "text/plain": [
       "<Figure size 800x500 with 1 Axes>"
      ]
     },
     "metadata": {},
     "output_type": "display_data"
    }
   ],
   "source": [
    "plt.figure(figsize=(8, 5))\n",
    "\n",
    "sns.regplot(x=df_new['Age'], y=df_new['Sleep Duration'], line_kws={'color': 'red'})\n",
    "\n",
    "plt.xlabel('Age')\n",
    "plt.ylabel('Sleep Duration')\n",
    "plt.title('Relationship between Age and Sleep Duration')\n",
    "\n",
    "plt.show()"
   ]
  },
  {
   "cell_type": "markdown",
   "metadata": {},
   "source": [
    "Answer: Looking in the majority we can see that younger sleeps less, while older people longer. I don't know why actually :( Maybe we have small amount of data?"
   ]
  },
  {
   "cell_type": "markdown",
   "metadata": {},
   "source": [
    "## Processing and preparation data for modeling\n",
    "##### Choosing a variables for the model, and making new"
   ]
  },
  {
   "cell_type": "code",
   "execution_count": 27,
   "metadata": {},
   "outputs": [
    {
     "data": {
      "image/png": "[encoded data removed]",
      "text/plain": [
       "<Figure size 800x500 with 2 Axes>"
      ]
     },
     "metadata": {},
     "output_type": "display_data"
    }
   ],
   "source": [
    "plt.figure(figsize=(8,5))\n",
    "sns.heatmap(SD_corr,cmap='coolwarm',annot=True,fmt=\".2f\")\n",
    "\n",
    "plt.title('Correlation with Sleep Disorder')\n",
    "plt.show()"
   ]
  },
  {
   "cell_type": "markdown",
   "metadata": {},
   "source": [
    "So we can take Age, BMI Category, Heart Rate, Gender and Blood Pressure, that we change for Average"
   ]
  },
  {
   "cell_type": "code",
   "execution_count": 28,
   "metadata": {},
   "outputs": [
    {
     "data": {
      "application/vnd.microsoft.datawrangler.viewer.v0+json": {
       "columns": [
        {
         "name": "index",
         "rawType": "int64",
         "type": "integer"
        },
        {
         "name": "Person ID",
         "rawType": "int64",
         "type": "integer"
        },
        {
         "name": "Gender",
         "rawType": "int64",
         "type": "integer"
        },
        {
         "name": "Age",
         "rawType": "int64",
         "type": "integer"
        },
        {
         "name": "Occupation",
         "rawType": "int64",
         "type": "integer"
        },
        {
         "name": "Sleep Duration",
         "rawType": "float64",
         "type": "float"
        },
        {
         "name": "Quality of Sleep",
         "rawType": "int64",
         "type": "integer"
        },
        {
         "name": "Physical Activity Level",
         "rawType": "int64",
         "type": "integer"
        },
        {
         "name": "Stress Level",
         "rawType": "int64",
         "type": "integer"
        },
        {
         "name": "BMI Category",
         "rawType": "int64",
         "type": "integer"
        },
        {
         "name": "Heart Rate",
         "rawType": "int64",
         "type": "integer"
        },
        {
         "name": "Daily Steps",
         "rawType": "int64",
         "type": "integer"
        },
        {
         "name": "Sleep Disorder",
         "rawType": "int64",
         "type": "integer"
        },
        {
         "name": "BP_Systolic",
         "rawType": "int32",
         "type": "integer"
        },
        {
         "name": "BP_Diastolic",
         "rawType": "int32",
         "type": "integer"
        }
       ],
       "conversionMethod": "pd.DataFrame",
       "ref": "b18cfac6-8d0c-447a-b4e0-371c5dc44b58",
       "rows": [
        [
         "0",
         "1",
         "1",
         "27",
         "8",
         "6.1",
         "6",
         "42",
         "6",
         "1",
         "77",
         "4200",
         "0",
         "126",
         "83"
        ],
        [
         "1",
         "2",
         "1",
         "28",
         "1",
         "6.2",
         "6",
         "60",
         "8",
         "0",
         "75",
         "10000",
         "0",
         "125",
         "80"
        ],
        [
         "2",
         "3",
         "1",
         "28",
         "1",
         "6.2",
         "6",
         "60",
         "8",
         "0",
         "75",
         "10000",
         "0",
         "125",
         "80"
        ],
        [
         "3",
         "4",
         "1",
         "28",
         "10",
         "5.9",
         "4",
         "30",
         "8",
         "2",
         "85",
         "3000",
         "2",
         "140",
         "90"
        ],
        [
         "4",
         "5",
         "1",
         "28",
         "10",
         "5.9",
         "4",
         "30",
         "8",
         "2",
         "85",
         "3000",
         "2",
         "140",
         "90"
        ]
       ],
       "shape": {
        "columns": 14,
        "rows": 5
       }
      },
      "text/html": [
       "<div>\n",
       "<style scoped>\n",
       "    .dataframe tbody tr th:only-of-type {\n",
       "        vertical-align: middle;\n",
       "    }\n",
       "\n",
       "    .dataframe tbody tr th {\n",
       "        vertical-align: top;\n",
       "    }\n",
       "\n",
       "    .dataframe thead th {\n",
       "        text-align: right;\n",
       "    }\n",
       "</style>\n",
       "<table border=\"1\" class=\"dataframe\">\n",
       "  <thead>\n",
       "    <tr style=\"text-align: right;\">\n",
       "      <th></th>\n",
       "      <th>Person ID</th>\n",
       "      <th>Gender</th>\n",
       "      <th>Age</th>\n",
       "      <th>Occupation</th>\n",
       "      <th>Sleep Duration</th>\n",
       "      <th>Quality of Sleep</th>\n",
       "      <th>Physical Activity Level</th>\n",
       "      <th>Stress Level</th>\n",
       "      <th>BMI Category</th>\n",
       "      <th>Heart Rate</th>\n",
       "      <th>Daily Steps</th>\n",
       "      <th>Sleep Disorder</th>\n",
       "      <th>BP_Systolic</th>\n",
       "      <th>BP_Diastolic</th>\n",
       "    </tr>\n",
       "  </thead>\n",
       "  <tbody>\n",
       "    <tr>\n",
       "      <th>0</th>\n",
       "      <td>1</td>\n",
       "      <td>1</td>\n",
       "      <td>27</td>\n",
       "      <td>8</td>\n",
       "      <td>6.1</td>\n",
       "      <td>6</td>\n",
       "      <td>42</td>\n",
       "      <td>6</td>\n",
       "      <td>1</td>\n",
       "      <td>77</td>\n",
       "      <td>4200</td>\n",
       "      <td>0</td>\n",
       "      <td>126</td>\n",
       "      <td>83</td>\n",
       "    </tr>\n",
       "    <tr>\n",
       "      <th>1</th>\n",
       "      <td>2</td>\n",
       "      <td>1</td>\n",
       "      <td>28</td>\n",
       "      <td>1</td>\n",
       "      <td>6.2</td>\n",
       "      <td>6</td>\n",
       "      <td>60</td>\n",
       "      <td>8</td>\n",
       "      <td>0</td>\n",
       "      <td>75</td>\n",
       "      <td>10000</td>\n",
       "      <td>0</td>\n",
       "      <td>125</td>\n",
       "      <td>80</td>\n",
       "    </tr>\n",
       "    <tr>\n",
       "      <th>2</th>\n",
       "      <td>3</td>\n",
       "      <td>1</td>\n",
       "      <td>28</td>\n",
       "      <td>1</td>\n",
       "      <td>6.2</td>\n",
       "      <td>6</td>\n",
       "      <td>60</td>\n",
       "      <td>8</td>\n",
       "      <td>0</td>\n",
       "      <td>75</td>\n",
       "      <td>10000</td>\n",
       "      <td>0</td>\n",
       "      <td>125</td>\n",
       "      <td>80</td>\n",
       "    </tr>\n",
       "    <tr>\n",
       "      <th>3</th>\n",
       "      <td>4</td>\n",
       "      <td>1</td>\n",
       "      <td>28</td>\n",
       "      <td>10</td>\n",
       "      <td>5.9</td>\n",
       "      <td>4</td>\n",
       "      <td>30</td>\n",
       "      <td>8</td>\n",
       "      <td>2</td>\n",
       "      <td>85</td>\n",
       "      <td>3000</td>\n",
       "      <td>2</td>\n",
       "      <td>140</td>\n",
       "      <td>90</td>\n",
       "    </tr>\n",
       "    <tr>\n",
       "      <th>4</th>\n",
       "      <td>5</td>\n",
       "      <td>1</td>\n",
       "      <td>28</td>\n",
       "      <td>10</td>\n",
       "      <td>5.9</td>\n",
       "      <td>4</td>\n",
       "      <td>30</td>\n",
       "      <td>8</td>\n",
       "      <td>2</td>\n",
       "      <td>85</td>\n",
       "      <td>3000</td>\n",
       "      <td>2</td>\n",
       "      <td>140</td>\n",
       "      <td>90</td>\n",
       "    </tr>\n",
       "  </tbody>\n",
       "</table>\n",
       "</div>"
      ],
      "text/plain": [
       "   Person ID  Gender  Age  Occupation  Sleep Duration  Quality of Sleep  \\\n",
       "0          1       1   27           8             6.1                 6   \n",
       "1          2       1   28           1             6.2                 6   \n",
       "2          3       1   28           1             6.2                 6   \n",
       "3          4       1   28          10             5.9                 4   \n",
       "4          5       1   28          10             5.9                 4   \n",
       "\n",
       "   Physical Activity Level  Stress Level  BMI Category  Heart Rate  \\\n",
       "0                       42             6             1          77   \n",
       "1                       60             8             0          75   \n",
       "2                       60             8             0          75   \n",
       "3                       30             8             2          85   \n",
       "4                       30             8             2          85   \n",
       "\n",
       "   Daily Steps  Sleep Disorder  BP_Systolic  BP_Diastolic  \n",
       "0         4200               0          126            83  \n",
       "1        10000               0          125            80  \n",
       "2        10000               0          125            80  \n",
       "3         3000               2          140            90  \n",
       "4         3000               2          140            90  "
      ]
     },
     "execution_count": 28,
     "metadata": {},
     "output_type": "execute_result"
    }
   ],
   "source": [
    "df_new.head()"
   ]
  },
  {
   "cell_type": "code",
   "execution_count": 29,
   "metadata": {},
   "outputs": [],
   "source": [
    "df_ml = df_new.copy()"
   ]
  },
  {
   "cell_type": "code",
   "execution_count": 30,
   "metadata": {},
   "outputs": [],
   "source": [
    "df_ml = df_ml.drop(columns=['Person ID', 'Occupation', 'Sleep Duration', 'Quality of Sleep', 'Physical Activity Level', 'Stress Level', 'Daily Steps'])"
   ]
  },
  {
   "cell_type": "code",
   "execution_count": 31,
   "metadata": {},
   "outputs": [
    {
     "data": {
      "application/vnd.microsoft.datawrangler.viewer.v0+json": {
       "columns": [
        {
         "name": "index",
         "rawType": "int64",
         "type": "integer"
        },
        {
         "name": "Gender",
         "rawType": "int64",
         "type": "integer"
        },
        {
         "name": "Age",
         "rawType": "int64",
         "type": "integer"
        },
        {
         "name": "BMI Category",
         "rawType": "int64",
         "type": "integer"
        },
        {
         "name": "Heart Rate",
         "rawType": "int64",
         "type": "integer"
        },
        {
         "name": "Sleep Disorder",
         "rawType": "int64",
         "type": "integer"
        },
        {
         "name": "BP_Systolic",
         "rawType": "int32",
         "type": "integer"
        },
        {
         "name": "BP_Diastolic",
         "rawType": "int32",
         "type": "integer"
        },
        {
         "name": "AVG_Pressure",
         "rawType": "float64",
         "type": "float"
        }
       ],
       "conversionMethod": "pd.DataFrame",
       "ref": "9494b6be-6ea3-4753-a7d1-17ed85c183ff",
       "rows": [
        [
         "0",
         "1",
         "27",
         "1",
         "77",
         "0",
         "126",
         "83",
         "97.33333333333333"
        ],
        [
         "1",
         "1",
         "28",
         "0",
         "75",
         "0",
         "125",
         "80",
         "95.0"
        ],
        [
         "2",
         "1",
         "28",
         "0",
         "75",
         "0",
         "125",
         "80",
         "95.0"
        ],
        [
         "3",
         "1",
         "28",
         "2",
         "85",
         "2",
         "140",
         "90",
         "106.66666666666667"
        ],
        [
         "4",
         "1",
         "28",
         "2",
         "85",
         "2",
         "140",
         "90",
         "106.66666666666667"
        ],
        [
         "5",
         "1",
         "28",
         "2",
         "85",
         "1",
         "140",
         "90",
         "106.66666666666667"
        ],
        [
         "6",
         "1",
         "29",
         "2",
         "82",
         "1",
         "140",
         "90",
         "106.66666666666667"
        ],
        [
         "7",
         "1",
         "29",
         "0",
         "70",
         "0",
         "120",
         "80",
         "93.33333333333333"
        ],
        [
         "8",
         "1",
         "29",
         "0",
         "70",
         "0",
         "120",
         "80",
         "93.33333333333333"
        ],
        [
         "9",
         "1",
         "29",
         "0",
         "70",
         "0",
         "120",
         "80",
         "93.33333333333333"
        ],
        [
         "10",
         "1",
         "29",
         "0",
         "70",
         "0",
         "120",
         "80",
         "93.33333333333333"
        ],
        [
         "11",
         "1",
         "29",
         "0",
         "70",
         "0",
         "120",
         "80",
         "93.33333333333333"
        ],
        [
         "12",
         "1",
         "29",
         "0",
         "70",
         "0",
         "120",
         "80",
         "93.33333333333333"
        ],
        [
         "13",
         "1",
         "29",
         "0",
         "70",
         "0",
         "120",
         "80",
         "93.33333333333333"
        ],
        [
         "14",
         "1",
         "29",
         "0",
         "70",
         "0",
         "120",
         "80",
         "93.33333333333333"
        ],
        [
         "15",
         "1",
         "29",
         "0",
         "70",
         "0",
         "120",
         "80",
         "93.33333333333333"
        ],
        [
         "16",
         "0",
         "29",
         "3",
         "80",
         "2",
         "132",
         "87",
         "102.0"
        ],
        [
         "17",
         "1",
         "29",
         "0",
         "70",
         "2",
         "120",
         "80",
         "93.33333333333333"
        ],
        [
         "18",
         "0",
         "29",
         "3",
         "80",
         "1",
         "132",
         "87",
         "102.0"
        ],
        [
         "19",
         "1",
         "30",
         "0",
         "70",
         "0",
         "120",
         "80",
         "93.33333333333333"
        ],
        [
         "20",
         "1",
         "30",
         "0",
         "70",
         "0",
         "120",
         "80",
         "93.33333333333333"
        ],
        [
         "21",
         "1",
         "30",
         "0",
         "70",
         "0",
         "120",
         "80",
         "93.33333333333333"
        ],
        [
         "22",
         "1",
         "30",
         "0",
         "70",
         "0",
         "120",
         "80",
         "93.33333333333333"
        ],
        [
         "23",
         "1",
         "30",
         "0",
         "70",
         "0",
         "120",
         "80",
         "93.33333333333333"
        ],
        [
         "24",
         "1",
         "30",
         "0",
         "70",
         "0",
         "120",
         "80",
         "93.33333333333333"
        ],
        [
         "25",
         "1",
         "30",
         "0",
         "70",
         "0",
         "120",
         "80",
         "93.33333333333333"
        ],
        [
         "26",
         "1",
         "30",
         "0",
         "70",
         "0",
         "120",
         "80",
         "93.33333333333333"
        ],
        [
         "27",
         "1",
         "30",
         "0",
         "70",
         "0",
         "120",
         "80",
         "93.33333333333333"
        ],
        [
         "28",
         "1",
         "30",
         "0",
         "70",
         "0",
         "120",
         "80",
         "93.33333333333333"
        ],
        [
         "29",
         "1",
         "30",
         "0",
         "70",
         "0",
         "120",
         "80",
         "93.33333333333333"
        ],
        [
         "30",
         "0",
         "30",
         "3",
         "78",
         "2",
         "130",
         "86",
         "100.66666666666667"
        ],
        [
         "31",
         "0",
         "30",
         "3",
         "78",
         "1",
         "130",
         "86",
         "100.66666666666667"
        ],
        [
         "32",
         "0",
         "31",
         "3",
         "69",
         "0",
         "117",
         "76",
         "89.66666666666667"
        ],
        [
         "33",
         "1",
         "31",
         "0",
         "72",
         "0",
         "125",
         "80",
         "95.0"
        ],
        [
         "34",
         "1",
         "31",
         "0",
         "70",
         "0",
         "120",
         "80",
         "93.33333333333333"
        ],
        [
         "35",
         "1",
         "31",
         "0",
         "72",
         "0",
         "125",
         "80",
         "95.0"
        ],
        [
         "36",
         "1",
         "31",
         "0",
         "72",
         "0",
         "125",
         "80",
         "95.0"
        ],
        [
         "37",
         "1",
         "31",
         "0",
         "70",
         "0",
         "120",
         "80",
         "93.33333333333333"
        ],
        [
         "38",
         "1",
         "31",
         "0",
         "70",
         "0",
         "120",
         "80",
         "93.33333333333333"
        ],
        [
         "39",
         "1",
         "31",
         "0",
         "70",
         "0",
         "120",
         "80",
         "93.33333333333333"
        ],
        [
         "40",
         "1",
         "31",
         "0",
         "70",
         "0",
         "120",
         "80",
         "93.33333333333333"
        ],
        [
         "41",
         "1",
         "31",
         "0",
         "70",
         "0",
         "120",
         "80",
         "93.33333333333333"
        ],
        [
         "42",
         "1",
         "31",
         "0",
         "70",
         "0",
         "120",
         "80",
         "93.33333333333333"
        ],
        [
         "43",
         "1",
         "31",
         "0",
         "70",
         "0",
         "120",
         "80",
         "93.33333333333333"
        ],
        [
         "44",
         "1",
         "31",
         "0",
         "70",
         "0",
         "120",
         "80",
         "93.33333333333333"
        ],
        [
         "45",
         "1",
         "31",
         "0",
         "70",
         "0",
         "120",
         "80",
         "93.33333333333333"
        ],
        [
         "46",
         "1",
         "31",
         "0",
         "70",
         "0",
         "120",
         "80",
         "93.33333333333333"
        ],
        [
         "47",
         "1",
         "31",
         "0",
         "70",
         "0",
         "120",
         "80",
         "93.33333333333333"
        ],
        [
         "48",
         "1",
         "31",
         "0",
         "70",
         "0",
         "120",
         "80",
         "93.33333333333333"
        ],
        [
         "49",
         "1",
         "31",
         "0",
         "70",
         "2",
         "120",
         "80",
         "93.33333333333333"
        ]
       ],
       "shape": {
        "columns": 8,
        "rows": 374
       }
      },
      "text/html": [
       "<div>\n",
       "<style scoped>\n",
       "    .dataframe tbody tr th:only-of-type {\n",
       "        vertical-align: middle;\n",
       "    }\n",
       "\n",
       "    .dataframe tbody tr th {\n",
       "        vertical-align: top;\n",
       "    }\n",
       "\n",
       "    .dataframe thead th {\n",
       "        text-align: right;\n",
       "    }\n",
       "</style>\n",
       "<table border=\"1\" class=\"dataframe\">\n",
       "  <thead>\n",
       "    <tr style=\"text-align: right;\">\n",
       "      <th></th>\n",
       "      <th>Gender</th>\n",
       "      <th>Age</th>\n",
       "      <th>BMI Category</th>\n",
       "      <th>Heart Rate</th>\n",
       "      <th>Sleep Disorder</th>\n",
       "      <th>BP_Systolic</th>\n",
       "      <th>BP_Diastolic</th>\n",
       "      <th>AVG_Pressure</th>\n",
       "    </tr>\n",
       "  </thead>\n",
       "  <tbody>\n",
       "    <tr>\n",
       "      <th>0</th>\n",
       "      <td>1</td>\n",
       "      <td>27</td>\n",
       "      <td>1</td>\n",
       "      <td>77</td>\n",
       "      <td>0</td>\n",
       "      <td>126</td>\n",
       "      <td>83</td>\n",
       "      <td>97.333333</td>\n",
       "    </tr>\n",
       "    <tr>\n",
       "      <th>1</th>\n",
       "      <td>1</td>\n",
       "      <td>28</td>\n",
       "      <td>0</td>\n",
       "      <td>75</td>\n",
       "      <td>0</td>\n",
       "      <td>125</td>\n",
       "      <td>80</td>\n",
       "      <td>95.000000</td>\n",
       "    </tr>\n",
       "    <tr>\n",
       "      <th>2</th>\n",
       "      <td>1</td>\n",
       "      <td>28</td>\n",
       "      <td>0</td>\n",
       "      <td>75</td>\n",
       "      <td>0</td>\n",
       "      <td>125</td>\n",
       "      <td>80</td>\n",
       "      <td>95.000000</td>\n",
       "    </tr>\n",
       "    <tr>\n",
       "      <th>3</th>\n",
       "      <td>1</td>\n",
       "      <td>28</td>\n",
       "      <td>2</td>\n",
       "      <td>85</td>\n",
       "      <td>2</td>\n",
       "      <td>140</td>\n",
       "      <td>90</td>\n",
       "      <td>106.666667</td>\n",
       "    </tr>\n",
       "    <tr>\n",
       "      <th>4</th>\n",
       "      <td>1</td>\n",
       "      <td>28</td>\n",
       "      <td>2</td>\n",
       "      <td>85</td>\n",
       "      <td>2</td>\n",
       "      <td>140</td>\n",
       "      <td>90</td>\n",
       "      <td>106.666667</td>\n",
       "    </tr>\n",
       "    <tr>\n",
       "      <th>...</th>\n",
       "      <td>...</td>\n",
       "      <td>...</td>\n",
       "      <td>...</td>\n",
       "      <td>...</td>\n",
       "      <td>...</td>\n",
       "      <td>...</td>\n",
       "      <td>...</td>\n",
       "      <td>...</td>\n",
       "    </tr>\n",
       "    <tr>\n",
       "      <th>369</th>\n",
       "      <td>0</td>\n",
       "      <td>59</td>\n",
       "      <td>1</td>\n",
       "      <td>68</td>\n",
       "      <td>2</td>\n",
       "      <td>140</td>\n",
       "      <td>95</td>\n",
       "      <td>110.000000</td>\n",
       "    </tr>\n",
       "    <tr>\n",
       "      <th>370</th>\n",
       "      <td>0</td>\n",
       "      <td>59</td>\n",
       "      <td>1</td>\n",
       "      <td>68</td>\n",
       "      <td>2</td>\n",
       "      <td>140</td>\n",
       "      <td>95</td>\n",
       "      <td>110.000000</td>\n",
       "    </tr>\n",
       "    <tr>\n",
       "      <th>371</th>\n",
       "      <td>0</td>\n",
       "      <td>59</td>\n",
       "      <td>1</td>\n",
       "      <td>68</td>\n",
       "      <td>2</td>\n",
       "      <td>140</td>\n",
       "      <td>95</td>\n",
       "      <td>110.000000</td>\n",
       "    </tr>\n",
       "    <tr>\n",
       "      <th>372</th>\n",
       "      <td>0</td>\n",
       "      <td>59</td>\n",
       "      <td>1</td>\n",
       "      <td>68</td>\n",
       "      <td>2</td>\n",
       "      <td>140</td>\n",
       "      <td>95</td>\n",
       "      <td>110.000000</td>\n",
       "    </tr>\n",
       "    <tr>\n",
       "      <th>373</th>\n",
       "      <td>0</td>\n",
       "      <td>59</td>\n",
       "      <td>1</td>\n",
       "      <td>68</td>\n",
       "      <td>2</td>\n",
       "      <td>140</td>\n",
       "      <td>95</td>\n",
       "      <td>110.000000</td>\n",
       "    </tr>\n",
       "  </tbody>\n",
       "</table>\n",
       "<p>374 rows × 8 columns</p>\n",
       "</div>"
      ],
      "text/plain": [
       "     Gender  Age  BMI Category  Heart Rate  Sleep Disorder  BP_Systolic  \\\n",
       "0         1   27             1          77               0          126   \n",
       "1         1   28             0          75               0          125   \n",
       "2         1   28             0          75               0          125   \n",
       "3         1   28             2          85               2          140   \n",
       "4         1   28             2          85               2          140   \n",
       "..      ...  ...           ...         ...             ...          ...   \n",
       "369       0   59             1          68               2          140   \n",
       "370       0   59             1          68               2          140   \n",
       "371       0   59             1          68               2          140   \n",
       "372       0   59             1          68               2          140   \n",
       "373       0   59             1          68               2          140   \n",
       "\n",
       "     BP_Diastolic  AVG_Pressure  \n",
       "0              83     97.333333  \n",
       "1              80     95.000000  \n",
       "2              80     95.000000  \n",
       "3              90    106.666667  \n",
       "4              90    106.666667  \n",
       "..            ...           ...  \n",
       "369            95    110.000000  \n",
       "370            95    110.000000  \n",
       "371            95    110.000000  \n",
       "372            95    110.000000  \n",
       "373            95    110.000000  \n",
       "\n",
       "[374 rows x 8 columns]"
      ]
     },
     "execution_count": 31,
     "metadata": {},
     "output_type": "execute_result"
    }
   ],
   "source": [
    "df_ml['AVG_Pressure'] = (2 * df_new['BP_Diastolic'] + df_new['BP_Systolic']) / 3\n",
    "df_ml"
   ]
  },
  {
   "cell_type": "code",
   "execution_count": 32,
   "metadata": {},
   "outputs": [
    {
     "data": {
      "application/vnd.microsoft.datawrangler.viewer.v0+json": {
       "columns": [
        {
         "name": "index",
         "rawType": "int64",
         "type": "integer"
        },
        {
         "name": "Gender",
         "rawType": "int64",
         "type": "integer"
        },
        {
         "name": "Age",
         "rawType": "int64",
         "type": "integer"
        },
        {
         "name": "BMI Category",
         "rawType": "int64",
         "type": "integer"
        },
        {
         "name": "Heart Rate",
         "rawType": "int64",
         "type": "integer"
        },
        {
         "name": "Sleep Disorder",
         "rawType": "int64",
         "type": "integer"
        },
        {
         "name": "AVG_Pressure",
         "rawType": "float64",
         "type": "float"
        }
       ],
       "conversionMethod": "pd.DataFrame",
       "ref": "9dbb2829-77e6-4983-9192-db11b66ca84e",
       "rows": [
        [
         "0",
         "1",
         "27",
         "1",
         "77",
         "0",
         "97.33333333333333"
        ],
        [
         "1",
         "1",
         "28",
         "0",
         "75",
         "0",
         "95.0"
        ],
        [
         "2",
         "1",
         "28",
         "0",
         "75",
         "0",
         "95.0"
        ],
        [
         "3",
         "1",
         "28",
         "2",
         "85",
         "2",
         "106.66666666666667"
        ],
        [
         "4",
         "1",
         "28",
         "2",
         "85",
         "2",
         "106.66666666666667"
        ],
        [
         "5",
         "1",
         "28",
         "2",
         "85",
         "1",
         "106.66666666666667"
        ],
        [
         "6",
         "1",
         "29",
         "2",
         "82",
         "1",
         "106.66666666666667"
        ],
        [
         "7",
         "1",
         "29",
         "0",
         "70",
         "0",
         "93.33333333333333"
        ],
        [
         "8",
         "1",
         "29",
         "0",
         "70",
         "0",
         "93.33333333333333"
        ],
        [
         "9",
         "1",
         "29",
         "0",
         "70",
         "0",
         "93.33333333333333"
        ],
        [
         "10",
         "1",
         "29",
         "0",
         "70",
         "0",
         "93.33333333333333"
        ],
        [
         "11",
         "1",
         "29",
         "0",
         "70",
         "0",
         "93.33333333333333"
        ],
        [
         "12",
         "1",
         "29",
         "0",
         "70",
         "0",
         "93.33333333333333"
        ],
        [
         "13",
         "1",
         "29",
         "0",
         "70",
         "0",
         "93.33333333333333"
        ],
        [
         "14",
         "1",
         "29",
         "0",
         "70",
         "0",
         "93.33333333333333"
        ],
        [
         "15",
         "1",
         "29",
         "0",
         "70",
         "0",
         "93.33333333333333"
        ],
        [
         "16",
         "0",
         "29",
         "3",
         "80",
         "2",
         "102.0"
        ],
        [
         "17",
         "1",
         "29",
         "0",
         "70",
         "2",
         "93.33333333333333"
        ],
        [
         "18",
         "0",
         "29",
         "3",
         "80",
         "1",
         "102.0"
        ],
        [
         "19",
         "1",
         "30",
         "0",
         "70",
         "0",
         "93.33333333333333"
        ],
        [
         "20",
         "1",
         "30",
         "0",
         "70",
         "0",
         "93.33333333333333"
        ],
        [
         "21",
         "1",
         "30",
         "0",
         "70",
         "0",
         "93.33333333333333"
        ],
        [
         "22",
         "1",
         "30",
         "0",
         "70",
         "0",
         "93.33333333333333"
        ],
        [
         "23",
         "1",
         "30",
         "0",
         "70",
         "0",
         "93.33333333333333"
        ],
        [
         "24",
         "1",
         "30",
         "0",
         "70",
         "0",
         "93.33333333333333"
        ],
        [
         "25",
         "1",
         "30",
         "0",
         "70",
         "0",
         "93.33333333333333"
        ],
        [
         "26",
         "1",
         "30",
         "0",
         "70",
         "0",
         "93.33333333333333"
        ],
        [
         "27",
         "1",
         "30",
         "0",
         "70",
         "0",
         "93.33333333333333"
        ],
        [
         "28",
         "1",
         "30",
         "0",
         "70",
         "0",
         "93.33333333333333"
        ],
        [
         "29",
         "1",
         "30",
         "0",
         "70",
         "0",
         "93.33333333333333"
        ],
        [
         "30",
         "0",
         "30",
         "3",
         "78",
         "2",
         "100.66666666666667"
        ],
        [
         "31",
         "0",
         "30",
         "3",
         "78",
         "1",
         "100.66666666666667"
        ],
        [
         "32",
         "0",
         "31",
         "3",
         "69",
         "0",
         "89.66666666666667"
        ],
        [
         "33",
         "1",
         "31",
         "0",
         "72",
         "0",
         "95.0"
        ],
        [
         "34",
         "1",
         "31",
         "0",
         "70",
         "0",
         "93.33333333333333"
        ],
        [
         "35",
         "1",
         "31",
         "0",
         "72",
         "0",
         "95.0"
        ],
        [
         "36",
         "1",
         "31",
         "0",
         "72",
         "0",
         "95.0"
        ],
        [
         "37",
         "1",
         "31",
         "0",
         "70",
         "0",
         "93.33333333333333"
        ],
        [
         "38",
         "1",
         "31",
         "0",
         "70",
         "0",
         "93.33333333333333"
        ],
        [
         "39",
         "1",
         "31",
         "0",
         "70",
         "0",
         "93.33333333333333"
        ],
        [
         "40",
         "1",
         "31",
         "0",
         "70",
         "0",
         "93.33333333333333"
        ],
        [
         "41",
         "1",
         "31",
         "0",
         "70",
         "0",
         "93.33333333333333"
        ],
        [
         "42",
         "1",
         "31",
         "0",
         "70",
         "0",
         "93.33333333333333"
        ],
        [
         "43",
         "1",
         "31",
         "0",
         "70",
         "0",
         "93.33333333333333"
        ],
        [
         "44",
         "1",
         "31",
         "0",
         "70",
         "0",
         "93.33333333333333"
        ],
        [
         "45",
         "1",
         "31",
         "0",
         "70",
         "0",
         "93.33333333333333"
        ],
        [
         "46",
         "1",
         "31",
         "0",
         "70",
         "0",
         "93.33333333333333"
        ],
        [
         "47",
         "1",
         "31",
         "0",
         "70",
         "0",
         "93.33333333333333"
        ],
        [
         "48",
         "1",
         "31",
         "0",
         "70",
         "0",
         "93.33333333333333"
        ],
        [
         "49",
         "1",
         "31",
         "0",
         "70",
         "2",
         "93.33333333333333"
        ]
       ],
       "shape": {
        "columns": 6,
        "rows": 374
       }
      },
      "text/html": [
       "<div>\n",
       "<style scoped>\n",
       "    .dataframe tbody tr th:only-of-type {\n",
       "        vertical-align: middle;\n",
       "    }\n",
       "\n",
       "    .dataframe tbody tr th {\n",
       "        vertical-align: top;\n",
       "    }\n",
       "\n",
       "    .dataframe thead th {\n",
       "        text-align: right;\n",
       "    }\n",
       "</style>\n",
       "<table border=\"1\" class=\"dataframe\">\n",
       "  <thead>\n",
       "    <tr style=\"text-align: right;\">\n",
       "      <th></th>\n",
       "      <th>Gender</th>\n",
       "      <th>Age</th>\n",
       "      <th>BMI Category</th>\n",
       "      <th>Heart Rate</th>\n",
       "      <th>Sleep Disorder</th>\n",
       "      <th>AVG_Pressure</th>\n",
       "    </tr>\n",
       "  </thead>\n",
       "  <tbody>\n",
       "    <tr>\n",
       "      <th>0</th>\n",
       "      <td>1</td>\n",
       "      <td>27</td>\n",
       "      <td>1</td>\n",
       "      <td>77</td>\n",
       "      <td>0</td>\n",
       "      <td>97.333333</td>\n",
       "    </tr>\n",
       "    <tr>\n",
       "      <th>1</th>\n",
       "      <td>1</td>\n",
       "      <td>28</td>\n",
       "      <td>0</td>\n",
       "      <td>75</td>\n",
       "      <td>0</td>\n",
       "      <td>95.000000</td>\n",
       "    </tr>\n",
       "    <tr>\n",
       "      <th>2</th>\n",
       "      <td>1</td>\n",
       "      <td>28</td>\n",
       "      <td>0</td>\n",
       "      <td>75</td>\n",
       "      <td>0</td>\n",
       "      <td>95.000000</td>\n",
       "    </tr>\n",
       "    <tr>\n",
       "      <th>3</th>\n",
       "      <td>1</td>\n",
       "      <td>28</td>\n",
       "      <td>2</td>\n",
       "      <td>85</td>\n",
       "      <td>2</td>\n",
       "      <td>106.666667</td>\n",
       "    </tr>\n",
       "    <tr>\n",
       "      <th>4</th>\n",
       "      <td>1</td>\n",
       "      <td>28</td>\n",
       "      <td>2</td>\n",
       "      <td>85</td>\n",
       "      <td>2</td>\n",
       "      <td>106.666667</td>\n",
       "    </tr>\n",
       "    <tr>\n",
       "      <th>...</th>\n",
       "      <td>...</td>\n",
       "      <td>...</td>\n",
       "      <td>...</td>\n",
       "      <td>...</td>\n",
       "      <td>...</td>\n",
       "      <td>...</td>\n",
       "    </tr>\n",
       "    <tr>\n",
       "      <th>369</th>\n",
       "      <td>0</td>\n",
       "      <td>59</td>\n",
       "      <td>1</td>\n",
       "      <td>68</td>\n",
       "      <td>2</td>\n",
       "      <td>110.000000</td>\n",
       "    </tr>\n",
       "    <tr>\n",
       "      <th>370</th>\n",
       "      <td>0</td>\n",
       "      <td>59</td>\n",
       "      <td>1</td>\n",
       "      <td>68</td>\n",
       "      <td>2</td>\n",
       "      <td>110.000000</td>\n",
       "    </tr>\n",
       "    <tr>\n",
       "      <th>371</th>\n",
       "      <td>0</td>\n",
       "      <td>59</td>\n",
       "      <td>1</td>\n",
       "      <td>68</td>\n",
       "      <td>2</td>\n",
       "      <td>110.000000</td>\n",
       "    </tr>\n",
       "    <tr>\n",
       "      <th>372</th>\n",
       "      <td>0</td>\n",
       "      <td>59</td>\n",
       "      <td>1</td>\n",
       "      <td>68</td>\n",
       "      <td>2</td>\n",
       "      <td>110.000000</td>\n",
       "    </tr>\n",
       "    <tr>\n",
       "      <th>373</th>\n",
       "      <td>0</td>\n",
       "      <td>59</td>\n",
       "      <td>1</td>\n",
       "      <td>68</td>\n",
       "      <td>2</td>\n",
       "      <td>110.000000</td>\n",
       "    </tr>\n",
       "  </tbody>\n",
       "</table>\n",
       "<p>374 rows × 6 columns</p>\n",
       "</div>"
      ],
      "text/plain": [
       "     Gender  Age  BMI Category  Heart Rate  Sleep Disorder  AVG_Pressure\n",
       "0         1   27             1          77               0     97.333333\n",
       "1         1   28             0          75               0     95.000000\n",
       "2         1   28             0          75               0     95.000000\n",
       "3         1   28             2          85               2    106.666667\n",
       "4         1   28             2          85               2    106.666667\n",
       "..      ...  ...           ...         ...             ...           ...\n",
       "369       0   59             1          68               2    110.000000\n",
       "370       0   59             1          68               2    110.000000\n",
       "371       0   59             1          68               2    110.000000\n",
       "372       0   59             1          68               2    110.000000\n",
       "373       0   59             1          68               2    110.000000\n",
       "\n",
       "[374 rows x 6 columns]"
      ]
     },
     "execution_count": 32,
     "metadata": {},
     "output_type": "execute_result"
    }
   ],
   "source": [
    "df_ml = df_ml.drop(columns=['BP_Diastolic','BP_Systolic'])\n",
    "df_ml"
   ]
  },
  {
   "cell_type": "markdown",
   "metadata": {},
   "source": [
    "##### Balancing classes"
   ]
  },
  {
   "cell_type": "code",
   "execution_count": 33,
   "metadata": {},
   "outputs": [
    {
     "data": {
      "text/plain": [
       "Sleep Disorder\n",
       "0    219\n",
       "2     78\n",
       "1     77\n",
       "Name: count, dtype: int64"
      ]
     },
     "execution_count": 33,
     "metadata": {},
     "output_type": "execute_result"
    }
   ],
   "source": [
    "df_ml['Sleep Disorder'].value_counts()"
   ]
  },
  {
   "cell_type": "code",
   "execution_count": 34,
   "metadata": {},
   "outputs": [
    {
     "data": {
      "image/png": "[encoded data removed]",
      "text/plain": [
       "<Figure size 640x480 with 1 Axes>"
      ]
     },
     "metadata": {},
     "output_type": "display_data"
    }
   ],
   "source": [
    "sns.countplot(x =df_ml['Sleep Disorder'])\n",
    "\n",
    "plt.title('Distribution of Sleep Disorders')\n",
    "\n",
    "plt.show()"
   ]
  },
  {
   "cell_type": "code",
   "execution_count": 35,
   "metadata": {},
   "outputs": [
    {
     "data": {
      "text/plain": [
       "Sleep Disorder\n",
       "2    78\n",
       "0    77\n",
       "1    77\n",
       "Name: count, dtype: int64"
      ]
     },
     "execution_count": 35,
     "metadata": {},
     "output_type": "execute_result"
    }
   ],
   "source": [
    "from sklearn.utils import resample\n",
    "\n",
    "df_majority = df_ml[df_ml['Sleep Disorder'] == 0]\n",
    "df_minority_1 = df_ml[df_ml['Sleep Disorder'] == 1]\n",
    "df_minority_2 = df_ml[df_ml['Sleep Disorder'] == 2]\n",
    "\n",
    "df_majority_downsampled = resample(df_majority,\n",
    "                                   replace=False,\n",
    "                                   n_samples=len(df_minority_1),\n",
    "                                   random_state=42)\n",
    "\n",
    "df_balanced = pd.concat([df_majority_downsampled, df_minority_1, df_minority_2])\n",
    "\n",
    "df_balanced['Sleep Disorder'].value_counts()\n"
   ]
  },
  {
   "cell_type": "code",
   "execution_count": 36,
   "metadata": {},
   "outputs": [
    {
     "data": {
      "application/vnd.microsoft.datawrangler.viewer.v0+json": {
       "columns": [
        {
         "name": "index",
         "rawType": "int64",
         "type": "integer"
        },
        {
         "name": "Gender",
         "rawType": "int64",
         "type": "integer"
        },
        {
         "name": "Age",
         "rawType": "int64",
         "type": "integer"
        },
        {
         "name": "BMI Category",
         "rawType": "int64",
         "type": "integer"
        },
        {
         "name": "Heart Rate",
         "rawType": "int64",
         "type": "integer"
        },
        {
         "name": "Sleep Disorder",
         "rawType": "int64",
         "type": "integer"
        },
        {
         "name": "AVG_Pressure",
         "rawType": "float64",
         "type": "float"
        }
       ],
       "conversionMethod": "pd.DataFrame",
       "ref": "4795ae0a-5b11-49d4-8451-1ccded1fd11e",
       "rows": [
        [
         "178",
         "1",
         "42",
         "0",
         "70",
         "0",
         "100.0"
        ],
        [
         "111",
         "1",
         "37",
         "0",
         "68",
         "0",
         "100.0"
        ],
        [
         "343",
         "0",
         "57",
         "1",
         "68",
         "0",
         "110.0"
        ],
        [
         "358",
         "0",
         "59",
         "1",
         "68",
         "0",
         "110.0"
        ],
        [
         "22",
         "1",
         "30",
         "0",
         "70",
         "0",
         "93.33333333333333"
        ]
       ],
       "shape": {
        "columns": 6,
        "rows": 5
       }
      },
      "text/html": [
       "<div>\n",
       "<style scoped>\n",
       "    .dataframe tbody tr th:only-of-type {\n",
       "        vertical-align: middle;\n",
       "    }\n",
       "\n",
       "    .dataframe tbody tr th {\n",
       "        vertical-align: top;\n",
       "    }\n",
       "\n",
       "    .dataframe thead th {\n",
       "        text-align: right;\n",
       "    }\n",
       "</style>\n",
       "<table border=\"1\" class=\"dataframe\">\n",
       "  <thead>\n",
       "    <tr style=\"text-align: right;\">\n",
       "      <th></th>\n",
       "      <th>Gender</th>\n",
       "      <th>Age</th>\n",
       "      <th>BMI Category</th>\n",
       "      <th>Heart Rate</th>\n",
       "      <th>Sleep Disorder</th>\n",
       "      <th>AVG_Pressure</th>\n",
       "    </tr>\n",
       "  </thead>\n",
       "  <tbody>\n",
       "    <tr>\n",
       "      <th>178</th>\n",
       "      <td>1</td>\n",
       "      <td>42</td>\n",
       "      <td>0</td>\n",
       "      <td>70</td>\n",
       "      <td>0</td>\n",
       "      <td>100.000000</td>\n",
       "    </tr>\n",
       "    <tr>\n",
       "      <th>111</th>\n",
       "      <td>1</td>\n",
       "      <td>37</td>\n",
       "      <td>0</td>\n",
       "      <td>68</td>\n",
       "      <td>0</td>\n",
       "      <td>100.000000</td>\n",
       "    </tr>\n",
       "    <tr>\n",
       "      <th>343</th>\n",
       "      <td>0</td>\n",
       "      <td>57</td>\n",
       "      <td>1</td>\n",
       "      <td>68</td>\n",
       "      <td>0</td>\n",
       "      <td>110.000000</td>\n",
       "    </tr>\n",
       "    <tr>\n",
       "      <th>358</th>\n",
       "      <td>0</td>\n",
       "      <td>59</td>\n",
       "      <td>1</td>\n",
       "      <td>68</td>\n",
       "      <td>0</td>\n",
       "      <td>110.000000</td>\n",
       "    </tr>\n",
       "    <tr>\n",
       "      <th>22</th>\n",
       "      <td>1</td>\n",
       "      <td>30</td>\n",
       "      <td>0</td>\n",
       "      <td>70</td>\n",
       "      <td>0</td>\n",
       "      <td>93.333333</td>\n",
       "    </tr>\n",
       "  </tbody>\n",
       "</table>\n",
       "</div>"
      ],
      "text/plain": [
       "     Gender  Age  BMI Category  Heart Rate  Sleep Disorder  AVG_Pressure\n",
       "178       1   42             0          70               0    100.000000\n",
       "111       1   37             0          68               0    100.000000\n",
       "343       0   57             1          68               0    110.000000\n",
       "358       0   59             1          68               0    110.000000\n",
       "22        1   30             0          70               0     93.333333"
      ]
     },
     "execution_count": 36,
     "metadata": {},
     "output_type": "execute_result"
    }
   ],
   "source": [
    "df_balanced.head()"
   ]
  },
  {
   "cell_type": "markdown",
   "metadata": {},
   "source": [
    "##### Normalization"
   ]
  },
  {
   "cell_type": "code",
   "execution_count": 37,
   "metadata": {},
   "outputs": [],
   "source": [
    "df_norm = df_balanced.copy()"
   ]
  },
  {
   "cell_type": "code",
   "execution_count": 38,
   "metadata": {},
   "outputs": [],
   "source": [
    "from sklearn.preprocessing import StandardScaler\n",
    "\n",
    "scaler = StandardScaler()\n",
    "cols_to_scale = ['Age', 'BMI Category', 'Heart Rate', 'AVG_Pressure']\n",
    "df_norm[cols_to_scale] = scaler.fit_transform(df_norm[cols_to_scale])"
   ]
  },
  {
   "cell_type": "code",
   "execution_count": 41,
   "metadata": {},
   "outputs": [
    {
     "data": {
      "application/vnd.microsoft.datawrangler.viewer.v0+json": {
       "columns": [
        {
         "name": "index",
         "rawType": "int64",
         "type": "integer"
        },
        {
         "name": "Gender",
         "rawType": "int64",
         "type": "integer"
        },
        {
         "name": "Age",
         "rawType": "float64",
         "type": "float"
        },
        {
         "name": "BMI Category",
         "rawType": "float64",
         "type": "float"
        },
        {
         "name": "Heart Rate",
         "rawType": "float64",
         "type": "float"
        },
        {
         "name": "Sleep Disorder",
         "rawType": "int64",
         "type": "integer"
        },
        {
         "name": "AVG_Pressure",
         "rawType": "float64",
         "type": "float"
        }
       ],
       "conversionMethod": "pd.DataFrame",
       "ref": "d30cf284-fda1-40f9-9a98-13f21e23baa1",
       "rows": [
        [
         "178",
         "1",
         "-0.2405552863172965",
         "-1.138572997574728",
         "-0.1837829414087598",
         "0",
         "-0.2618039216094136"
        ],
        [
         "111",
         "1",
         "-0.8243296213132464",
         "-1.138572997574728",
         "-0.6144661980434317",
         "0",
         "-0.2618039216094136"
        ],
        [
         "343",
         "0",
         "1.510767718670553",
         "0.27398815449659236",
         "-0.6144661980434317",
         "0",
         "1.2354477582603556"
        ],
        [
         "358",
         "0",
         "1.7442774526689329",
         "0.27398815449659236",
         "-0.6144661980434317",
         "0",
         "1.2354477582603556"
        ],
        [
         "22",
         "1",
         "-1.6416136903075762",
         "-1.138572997574728",
         "-0.1837829414087598",
         "0",
         "-1.2599717081892605"
        ]
       ],
       "shape": {
        "columns": 6,
        "rows": 5
       }
      },
      "text/html": [
       "<div>\n",
       "<style scoped>\n",
       "    .dataframe tbody tr th:only-of-type {\n",
       "        vertical-align: middle;\n",
       "    }\n",
       "\n",
       "    .dataframe tbody tr th {\n",
       "        vertical-align: top;\n",
       "    }\n",
       "\n",
       "    .dataframe thead th {\n",
       "        text-align: right;\n",
       "    }\n",
       "</style>\n",
       "<table border=\"1\" class=\"dataframe\">\n",
       "  <thead>\n",
       "    <tr style=\"text-align: right;\">\n",
       "      <th></th>\n",
       "      <th>Gender</th>\n",
       "      <th>Age</th>\n",
       "      <th>BMI Category</th>\n",
       "      <th>Heart Rate</th>\n",
       "      <th>Sleep Disorder</th>\n",
       "      <th>AVG_Pressure</th>\n",
       "    </tr>\n",
       "  </thead>\n",
       "  <tbody>\n",
       "    <tr>\n",
       "      <th>178</th>\n",
       "      <td>1</td>\n",
       "      <td>-0.240555</td>\n",
       "      <td>-1.138573</td>\n",
       "      <td>-0.183783</td>\n",
       "      <td>0</td>\n",
       "      <td>-0.261804</td>\n",
       "    </tr>\n",
       "    <tr>\n",
       "      <th>111</th>\n",
       "      <td>1</td>\n",
       "      <td>-0.824330</td>\n",
       "      <td>-1.138573</td>\n",
       "      <td>-0.614466</td>\n",
       "      <td>0</td>\n",
       "      <td>-0.261804</td>\n",
       "    </tr>\n",
       "    <tr>\n",
       "      <th>343</th>\n",
       "      <td>0</td>\n",
       "      <td>1.510768</td>\n",
       "      <td>0.273988</td>\n",
       "      <td>-0.614466</td>\n",
       "      <td>0</td>\n",
       "      <td>1.235448</td>\n",
       "    </tr>\n",
       "    <tr>\n",
       "      <th>358</th>\n",
       "      <td>0</td>\n",
       "      <td>1.744277</td>\n",
       "      <td>0.273988</td>\n",
       "      <td>-0.614466</td>\n",
       "      <td>0</td>\n",
       "      <td>1.235448</td>\n",
       "    </tr>\n",
       "    <tr>\n",
       "      <th>22</th>\n",
       "      <td>1</td>\n",
       "      <td>-1.641614</td>\n",
       "      <td>-1.138573</td>\n",
       "      <td>-0.183783</td>\n",
       "      <td>0</td>\n",
       "      <td>-1.259972</td>\n",
       "    </tr>\n",
       "  </tbody>\n",
       "</table>\n",
       "</div>"
      ],
      "text/plain": [
       "     Gender       Age  BMI Category  Heart Rate  Sleep Disorder  AVG_Pressure\n",
       "178       1 -0.240555     -1.138573   -0.183783               0     -0.261804\n",
       "111       1 -0.824330     -1.138573   -0.614466               0     -0.261804\n",
       "343       0  1.510768      0.273988   -0.614466               0      1.235448\n",
       "358       0  1.744277      0.273988   -0.614466               0      1.235448\n",
       "22        1 -1.641614     -1.138573   -0.183783               0     -1.259972"
      ]
     },
     "execution_count": 41,
     "metadata": {},
     "output_type": "execute_result"
    }
   ],
   "source": [
    "df_norm.head()"
   ]
  },
  {
   "cell_type": "markdown",
   "metadata": {},
   "source": [
    "### Classification creation to predict sleep disorder\n",
    "##### Train/Test split"
   ]
  },
  {
   "cell_type": "code",
   "execution_count": null,
   "metadata": {},
   "outputs": [
    {
     "data": {
      "text/plain": [
       "(47,)"
      ]
     },
     "execution_count": 47,
     "metadata": {},
     "output_type": "execute_result"
    }
   ],
   "source": [
    "from sklearn.model_selection import train_test_split\n",
    "\n",
    "X = df_norm.drop(columns=['Sleep Disorder'])\n",
    "y = df_norm['Sleep Disorder']\n",
    "\n",
    "X_train, X_test, y_train, y_test = train_test_split(X,y, test_size=0.2, random_state=42, stratify=y)"
   ]
  },
  {
   "cell_type": "markdown",
   "metadata": {},
   "source": [
    "##### Trying different algorithms"
   ]
  },
  {
   "cell_type": "markdown",
   "metadata": {},
   "source": [
    "Logistic Regression"
   ]
  },
  {
   "cell_type": "code",
   "execution_count": null,
   "metadata": {},
   "outputs": [
    {
     "data": {
      "text/plain": [
       "0.851063829787234"
      ]
     },
     "execution_count": 49,
     "metadata": {},
     "output_type": "execute_result"
    }
   ],
   "source": [
    "from sklearn.linear_model import LogisticRegression\n",
    "from sklearn.metrics import accuracy_score\n",
    "\n",
    "logreg = LogisticRegression()\n",
    "logreg.fit(X_train,y_train)\n",
    "\n",
    "y_pred_logreg = logreg.predict(X_test)\n",
    "\n",
    "accuracy_logreg = accuracy_score(y_test,y_pred_logreg)\n",
    "\n",
    "accuracy_logreg"
   ]
  },
  {
   "cell_type": "markdown",
   "metadata": {},
   "source": [
    "Random Forest"
   ]
  },
  {
   "cell_type": "code",
   "execution_count": 50,
   "metadata": {},
   "outputs": [
    {
     "data": {
      "text/plain": [
       "0.8297872340425532"
      ]
     },
     "execution_count": 50,
     "metadata": {},
     "output_type": "execute_result"
    }
   ],
   "source": [
    "from sklearn.ensemble import RandomForestClassifier\n",
    "\n",
    "rfo = RandomForestClassifier()\n",
    "rfo.fit(X_train,y_train)\n",
    "\n",
    "y_pred_rfo = rfo.predict(X_test)\n",
    "\n",
    "accuracy_rfo = accuracy_score(y_test, y_pred_rfo)\n",
    "\n",
    "accuracy_rfo"
   ]
  },
  {
   "cell_type": "markdown",
   "metadata": {},
   "source": [
    "K-Nearest Neighbors"
   ]
  },
  {
   "cell_type": "code",
   "execution_count": 57,
   "metadata": {},
   "outputs": [
    {
     "data": {
      "text/plain": [
       "0.8297872340425532"
      ]
     },
     "execution_count": 57,
     "metadata": {},
     "output_type": "execute_result"
    }
   ],
   "source": [
    "from sklearn.neighbors import KNeighborsClassifier\n",
    "\n",
    "knn = KNeighborsClassifier(n_neighbors=3)\n",
    "knn.fit(X_train, y_train)\n",
    "\n",
    "y_pred_knn = knn.predict(X_test)\n",
    "\n",
    "accuracy_knn = accuracy_score(y_test, y_pred_knn)\n",
    "\n",
    "accuracy_knn"
   ]
  },
  {
   "cell_type": "markdown",
   "metadata": {},
   "source": [
    "Support Vector Machine"
   ]
  },
  {
   "cell_type": "code",
   "execution_count": 63,
   "metadata": {},
   "outputs": [
    {
     "data": {
      "text/plain": [
       "0.8723404255319149"
      ]
     },
     "execution_count": 63,
     "metadata": {},
     "output_type": "execute_result"
    }
   ],
   "source": [
    "from sklearn.svm import SVC\n",
    "\n",
    "svm = SVC(kernel='poly')\n",
    "svm.fit(X_train, y_train)\n",
    "\n",
    "y_pred_svm = svm.predict(X_test)\n",
    "\n",
    "accuracy_svm = accuracy_score(y_test, y_pred_svm)\n",
    "\n",
    "accuracy_svm"
   ]
  },
  {
   "cell_type": "markdown",
   "metadata": {},
   "source": [
    "##### Model Scoring"
   ]
  },
  {
   "cell_type": "code",
   "execution_count": 64,
   "metadata": {},
   "outputs": [
    {
     "name": "stdout",
     "output_type": "stream",
     "text": [
      "0.851063829787234\n",
      "0.8297872340425532\n",
      "0.8297872340425532\n",
      "0.8723404255319149\n"
     ]
    }
   ],
   "source": [
    "print(accuracy_logreg)\n",
    "print(accuracy_rfo)\n",
    "print(accuracy_knn)\n",
    "print(accuracy_svm)"
   ]
  },
  {
   "cell_type": "code",
   "execution_count": 66,
   "metadata": {},
   "outputs": [
    {
     "name": "stdout",
     "output_type": "stream",
     "text": [
      "              precision    recall  f1-score   support\n",
      "\n",
      "           0       0.88      0.94      0.91        16\n",
      "           1       0.86      0.80      0.83        15\n",
      "           2       0.81      0.81      0.81        16\n",
      "\n",
      "    accuracy                           0.85        47\n",
      "   macro avg       0.85      0.85      0.85        47\n",
      "weighted avg       0.85      0.85      0.85        47\n",
      "\n"
     ]
    }
   ],
   "source": [
    "from sklearn.metrics import classification_report\n",
    "\n",
    "print(classification_report(y_test,y_pred_logreg))"
   ]
  },
  {
   "cell_type": "code",
   "execution_count": 67,
   "metadata": {},
   "outputs": [
    {
     "name": "stdout",
     "output_type": "stream",
     "text": [
      "              precision    recall  f1-score   support\n",
      "\n",
      "           0       0.88      0.94      0.91        16\n",
      "           1       0.80      0.80      0.80        15\n",
      "           2       0.80      0.75      0.77        16\n",
      "\n",
      "    accuracy                           0.83        47\n",
      "   macro avg       0.83      0.83      0.83        47\n",
      "weighted avg       0.83      0.83      0.83        47\n",
      "\n"
     ]
    }
   ],
   "source": [
    "print(classification_report(y_test,y_pred_rfo))\n"
   ]
  },
  {
   "cell_type": "code",
   "execution_count": 68,
   "metadata": {},
   "outputs": [
    {
     "name": "stdout",
     "output_type": "stream",
     "text": [
      "              precision    recall  f1-score   support\n",
      "\n",
      "           0       0.88      0.94      0.91        16\n",
      "           1       0.80      0.80      0.80        15\n",
      "           2       0.80      0.75      0.77        16\n",
      "\n",
      "    accuracy                           0.83        47\n",
      "   macro avg       0.83      0.83      0.83        47\n",
      "weighted avg       0.83      0.83      0.83        47\n",
      "\n"
     ]
    }
   ],
   "source": [
    "print(classification_report(y_test,y_pred_knn))\n"
   ]
  },
  {
   "cell_type": "code",
   "execution_count": 69,
   "metadata": {},
   "outputs": [
    {
     "name": "stdout",
     "output_type": "stream",
     "text": [
      "              precision    recall  f1-score   support\n",
      "\n",
      "           0       0.88      0.94      0.91        16\n",
      "           1       0.87      0.87      0.87        15\n",
      "           2       0.87      0.81      0.84        16\n",
      "\n",
      "    accuracy                           0.87        47\n",
      "   macro avg       0.87      0.87      0.87        47\n",
      "weighted avg       0.87      0.87      0.87        47\n",
      "\n"
     ]
    }
   ],
   "source": [
    "print(classification_report(y_test,y_pred_svm))"
   ]
  },
  {
   "cell_type": "markdown",
   "metadata": {},
   "source": [
    "SVM is the best model we have"
   ]
  },
  {
   "cell_type": "markdown",
   "metadata": {},
   "source": [
    "### Optimization and choosing hyperparameters\n",
    "##### Using GridSearchCV or RandomizedSearchCV"
   ]
  },
  {
   "cell_type": "markdown",
   "metadata": {},
   "source": []
  }
 ],
 "metadata": {
  "kernelspec": {
   "display_name": "Python 3",
   "language": "python",
   "name": "python3"
  },
  "language_info": {
   "codemirror_mode": {
    "name": "ipython",
    "version": 3
   },
   "file_extension": ".py",
   "mimetype": "text/x-python",
   "name": "python",
   "nbconvert_exporter": "python",
   "pygments_lexer": "ipython3",
   "version": "3.9.21"
  }
 },
 "nbformat": 4,
 "nbformat_minor": 2
}
